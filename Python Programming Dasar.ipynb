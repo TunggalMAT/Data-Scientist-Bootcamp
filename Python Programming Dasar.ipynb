{
 "cells": [
  {
   "cell_type": "markdown",
   "metadata": {},
   "source": [
    "# Python Programming Dasar\n",
    "\n",
    "Anda dapat mengakses website Python di [Python](http://python.org) <br>\n",
    "Anda dapat mengakses website Anaconda di [Anaconda](http://anaconda.com) \n",
    "\n",
    "<img src=\"https://www.python.org/static/community_logos/python-logo-master-v3-TM.png\" alt=\"Smiley face\" height=\"500\" width=\"500\"/>\n",
    "![Gambar Astra](https://2.bp.blogspot.com/-EYLva47vqDw/W90eOJv4ifI/AAAAAAAAPlc/BVslckEDk6gMFeXZRNFpfbBvrJ6jhm6YACLcBGAs/s320/Astra%2BInternational.png)\n",
    "***"
   ]
  },
  {
   "cell_type": "markdown",
   "metadata": {},
   "source": [
    "## 1. Bussiness Understanding\n",
    "### 1.1 Latar Belakang\n",
    "* karena belum adanya data mengenai jumlah jenis mobil di DKI Jakarta\n",
    "* dan lain-lain\n",
    "    * List yang lain\n",
    "    \n",
    "### 1.2 Tujuan\n",
    "1. untuk membuat model prediksi jenis mobil den nomor _plat_ *dari* **data** ***CCTV***\n",
    "2. Untuk membantu pemerintah dalam membuat undang undang pembatasan kendaraan bermotor\n",
    "    1. satu\n",
    "    2. dua\n",
    "    3. tiga\n",
    "### 1.3 Manfaat\n"
   ]
  },
  {
   "cell_type": "markdown",
   "metadata": {},
   "source": [
    "## 2. Data Understanding\n",
    "\n"
   ]
  },
  {
   "cell_type": "markdown",
   "metadata": {},
   "source": [
    "## 3. Data Preparation\n",
    "\n"
   ]
  },
  {
   "cell_type": "markdown",
   "metadata": {},
   "source": [
    "## 4. Modeling\n"
   ]
  },
  {
   "cell_type": "markdown",
   "metadata": {},
   "source": [
    "## 5. Evaluation\n"
   ]
  },
  {
   "cell_type": "markdown",
   "metadata": {},
   "source": [
    "## 6. Data Presentation\n"
   ]
  },
  {
   "cell_type": "code",
   "execution_count": 2,
   "metadata": {},
   "outputs": [
    {
     "name": "stdout",
     "output_type": "stream",
     "text": [
      "Hello World\n",
      "7\n",
      "13\n"
     ]
    }
   ],
   "source": [
    "print(\"Hello World\")\n",
    "print(2+5)\n",
    "print(6+7)"
   ]
  },
  {
   "cell_type": "code",
   "execution_count": 7,
   "metadata": {},
   "outputs": [
    {
     "name": "stdout",
     "output_type": "stream",
     "text": [
      "7\n",
      "9\n",
      "16\n",
      "2\n"
     ]
    }
   ],
   "source": [
    "apel = 7\n",
    "jeruk = 9\n",
    "print(apel)\n",
    "print(jeruk)\n",
    "print(apel + jeruk)\n",
    "print(jeruk % apel)"
   ]
  },
  {
   "cell_type": "code",
   "execution_count": 9,
   "metadata": {},
   "outputs": [
    {
     "name": "stdout",
     "output_type": "stream",
     "text": [
      "13\n",
      "7\n",
      "-10\n",
      "30\n",
      "1000\n",
      "3.3333333333333335\n",
      "3\n",
      "1\n"
     ]
    }
   ],
   "source": [
    "x = 10\n",
    "y = 3\n",
    "print(x + y)\n",
    "print(x - y)\n",
    "print(-x)\n",
    "print(x * y)\n",
    "print(x ** y)\n",
    "print(x / y)\n",
    "print(x // y)\n",
    "print(x % y) "
   ]
  },
  {
   "cell_type": "code",
   "execution_count": 10,
   "metadata": {},
   "outputs": [
    {
     "name": "stdout",
     "output_type": "stream",
     "text": [
      "True\n",
      "<class 'bool'>\n",
      "<class 'str'>\n",
      "<class 'bool'>\n",
      "True\n",
      "False\n",
      "True\n",
      "False\n",
      "<class 'bool'>\n"
     ]
    }
   ],
   "source": [
    "print(True)\n",
    "print(type(True))\n",
    "print(type(\"True\"))\n",
    "print(type(False))\n",
    "print(10 == 10)\n",
    "print(5 == 6)\n",
    "t = True\n",
    "f = False\n",
    "print(t or f)\n",
    "print(t and f)\n",
    "print(type(t))"
   ]
  },
  {
   "cell_type": "code",
   "execution_count": 13,
   "metadata": {},
   "outputs": [
    {
     "name": "stdout",
     "output_type": "stream",
     "text": [
      "[2, 3, 4, 5, 6, 7]\n",
      "[['Bob', 160], ['Charlie', 150], ['Brian', 140.5]]\n"
     ]
    }
   ],
   "source": [
    "Fam = [2,3,4,5,6,7]\n",
    "print(Fam)\n",
    "type(Fam)\n",
    "# List inside list\n",
    "Data = [[\"Bob\",160],[\"Charlie\",150],[\"Brian\",140.5]]\n",
    "print (Data)"
   ]
  },
  {
   "cell_type": "code",
   "execution_count": 22,
   "metadata": {},
   "outputs": [
    {
     "name": "stdout",
     "output_type": "stream",
     "text": [
      "[2, 3, 4, 5, 6, 7]\n",
      "7\n",
      "2\n",
      "6\n",
      "[['Bob', 160], ['Charlie', 150], ['Brian', 140.5]]\n",
      "Bob\n",
      "160\n"
     ]
    }
   ],
   "source": [
    "# Built-In\n",
    "print(Fam)\n",
    "print(max(Fam))\n",
    "print(min(Fam))\n",
    "print(len(Fam))\n",
    "# User Defined\n",
    "print(Data)\n",
    "x,y = max(Data, key=lambda a: a[1])\n",
    "print(x)\n",
    "print(y)"
   ]
  },
  {
   "cell_type": "code",
   "execution_count": 49,
   "metadata": {},
   "outputs": [
    {
     "name": "stdout",
     "output_type": "stream",
     "text": [
      "       hello world\n",
      "<class 'str'>\n",
      "       hello world\n",
      "       HELLO WORLD\n",
      "       hello world\n",
      "hello world\n",
      "       hello wo\n",
      "hello wo\n",
      "helloworld\n"
     ]
    }
   ],
   "source": [
    "name = \"       hello world\"\n",
    "print(name)\n",
    "print(type(name))\n",
    "# “hello world” type is string\n",
    "# Some Methods specifically\n",
    "# associated with string type object are\n",
    "print(name.capitalize())\n",
    "print(name.upper())\n",
    "print(name.lower())\n",
    "print(name.strip())\n",
    "print(name.strip('rld'))\n",
    "print(name.strip(' rld'))\n",
    "print(''.join(name.split()))"
   ]
  },
  {
   "cell_type": "code",
   "execution_count": 71,
   "metadata": {},
   "outputs": [
    {
     "name": "stdout",
     "output_type": "stream",
     "text": [
      "cat\n",
      "[0, 1, 4, 9, 16]\n",
      "dog\n",
      "[0, 1, 4, 9, 16]\n",
      "monkey\n",
      "[0, 1, 4, 9, 16]\n",
      "el\n"
     ]
    }
   ],
   "source": [
    "animals = ['cat', 'dog', 'monkey']\n",
    "for i in animals:\n",
    "    print(i)\n",
    "    nums = [0, 1, 2, 3, 4]\n",
    "    squares = [x ** 2 for x in nums]\n",
    "    print(squares)\n",
    "    \n",
    "a = \"hello world\"\n",
    "print (a[1  : 3])\n",
    "#Map\n",
    "#print(list(map(label_height,Fam)))\n",
    "#print(list(map(label_height,height_list)))"
   ]
  },
  {
   "cell_type": "code",
   "execution_count": 74,
   "metadata": {},
   "outputs": [
    {
     "data": {
      "text/plain": [
       "int"
      ]
     },
     "execution_count": 74,
     "metadata": {},
     "output_type": "execute_result"
    }
   ],
   "source": [
    "harga = 10000\n",
    "type(harga)"
   ]
  },
  {
   "cell_type": "code",
   "execution_count": 76,
   "metadata": {},
   "outputs": [
    {
     "data": {
      "text/plain": [
       "float"
      ]
     },
     "execution_count": 76,
     "metadata": {},
     "output_type": "execute_result"
    }
   ],
   "source": [
    "rating = 5.9\n",
    "type(rating)"
   ]
  },
  {
   "cell_type": "code",
   "execution_count": 80,
   "metadata": {},
   "outputs": [
    {
     "name": "stdout",
     "output_type": "stream",
     "text": [
      "<class 'str'>\n",
      "P\n",
      "a\n",
      "Pytho\n",
      "ython untuk pemul\n"
     ]
    }
   ],
   "source": [
    "nama_variabel = 'Python untuk pemula'\n",
    "print(type(nama_variabel))\n",
    "print(nama_variabel[0])\n",
    "print(nama_variabel[-1])\n",
    "print(nama_variabel[0:5])\n",
    "print(nama_variabel[1:-1])"
   ]
  },
  {
   "cell_type": "code",
   "execution_count": 81,
   "metadata": {},
   "outputs": [
    {
     "name": "stdout",
     "output_type": "stream",
     "text": [
      "<class 'list'>\n",
      "[160.  150.  140.5]\n",
      "<class 'numpy.ndarray'>\n"
     ]
    }
   ],
   "source": [
    "import numpy as np\n",
    "Data = [[\"Bob\",160],[\"Charlie\",150],[\"Brian\",140.5]]\n",
    "height_list = [row[1] for row in Data]\n",
    "print(type(height_list))\n",
    "height_array = np.array(height_list)\n",
    "print(height_array)\n",
    "print(type(height_array))"
   ]
  },
  {
   "cell_type": "code",
   "execution_count": 95,
   "metadata": {},
   "outputs": [
    {
     "name": "stdout",
     "output_type": "stream",
     "text": [
      "berlin\n",
      "{'spain': ['madrid'], 'france': ['paris'], 'germany': ['berlin'], 'norway': ['oslo']}\n",
      "dict_keys(['spain', 'france', 'germany', 'norway'])\n",
      "dict_values([['madrid'], ['paris'], ['berlin'], ['oslo']])\n"
     ]
    }
   ],
   "source": [
    "countries = ['spain', 'france', 'germany', 'norway']\n",
    "capitals = ['madrid', 'paris', 'berlin', 'oslo']\n",
    "ind_ger = countries.index('germany')\n",
    "print(capitals[ind_ger])\n",
    "europe = {'spain':['madrid'], 'france':['paris'], 'germany':['berlin'], 'norway':['oslo']}\n",
    "type(europe)\n",
    "print(europe)\n",
    "print(europe.keys())\n",
    "print(europe.values())"
   ]
  },
  {
   "cell_type": "code",
   "execution_count": 99,
   "metadata": {},
   "outputs": [
    {
     "data": {
      "text/html": [
       "<div>\n",
       "<style scoped>\n",
       "    .dataframe tbody tr th:only-of-type {\n",
       "        vertical-align: middle;\n",
       "    }\n",
       "\n",
       "    .dataframe tbody tr th {\n",
       "        vertical-align: top;\n",
       "    }\n",
       "\n",
       "    .dataframe thead th {\n",
       "        text-align: right;\n",
       "    }\n",
       "</style>\n",
       "<table border=\"1\" class=\"dataframe\">\n",
       "  <thead>\n",
       "    <tr style=\"text-align: right;\">\n",
       "      <th></th>\n",
       "      <th>france</th>\n",
       "      <th>germany</th>\n",
       "      <th>norway</th>\n",
       "      <th>spain</th>\n",
       "    </tr>\n",
       "  </thead>\n",
       "  <tbody>\n",
       "    <tr>\n",
       "      <th>0</th>\n",
       "      <td>paris</td>\n",
       "      <td>berlin</td>\n",
       "      <td>oslo</td>\n",
       "      <td>madrid</td>\n",
       "    </tr>\n",
       "  </tbody>\n",
       "</table>\n",
       "</div>"
      ],
      "text/plain": [
       "  france germany norway   spain\n",
       "0  paris  berlin   oslo  madrid"
      ]
     },
     "execution_count": 99,
     "metadata": {},
     "output_type": "execute_result"
    }
   ],
   "source": [
    "import pandas as pd\n",
    "# Build dataframe from dictionary\n",
    "pd.DataFrame(europe)\n",
    "# Import the csv\n",
    "#pd.read_csv()"
   ]
  },
  {
   "cell_type": "code",
   "execution_count": 90,
   "metadata": {},
   "outputs": [
    {
     "name": "stdout",
     "output_type": "stream",
     "text": [
      "<class 'pandas.core.frame.DataFrame'>\n",
      "   cars_per_cap        country ctrcode  drives_right\n",
      "0           809  United States      US          True\n",
      "1           731      Australia     AUS         False\n",
      "2           588          Japan     JPN         False\n",
      "3            18          India      IN         False\n",
      "4           200         Russia     RUS          True\n",
      "5            70        Morocco     MOR          True\n",
      "6            45          Egypt      EG          True\n"
     ]
    }
   ],
   "source": [
    "code = ['US', 'AUS', 'JPN', 'IN', 'RUS', 'MOR', 'EG']\n",
    "names = ['United States', 'Australia', 'Japan', 'India','Russia','Morocco', 'Egypt']\n",
    "dr = [True, False, False, False, True, True, True]\n",
    "cpc = [809, 731, 588, 18, 200, 70, 45]\n",
    "# Create dictionary my_dict with three key:value pairs: my_dict\n",
    "my_dict = {'ctrcode':code, 'country':names, 'drives_right':dr,'cars_per_cap':cpc}\n",
    "cars = pd.DataFrame(my_dict)\n",
    "print(type(cars))\n",
    "print(cars)"
   ]
  },
  {
   "cell_type": "code",
   "execution_count": 103,
   "metadata": {},
   "outputs": [
    {
     "name": "stdout",
     "output_type": "stream",
     "text": [
      "Index(['cars_per_cap', 'country', 'ctrcode', 'drives_right'], dtype='object')\n",
      "4\n",
      "7\n",
      "<class 'pandas.core.frame.DataFrame'>\n",
      "RangeIndex: 7 entries, 0 to 6\n",
      "Data columns (total 4 columns):\n",
      "cars_per_cap    7 non-null int64\n",
      "country         7 non-null object\n",
      "ctrcode         7 non-null object\n",
      "drives_right    7 non-null bool\n",
      "dtypes: bool(1), int64(1), object(2)\n",
      "memory usage: 255.0+ bytes\n"
     ]
    }
   ],
   "source": [
    "# Dimension\n",
    "cars.shape\n",
    "print(cars.columns)\n",
    "print(len(cars.columns))\n",
    "print(len(cars))\n",
    "# Brief View\n",
    "cars.head(3)\n",
    "cars.tail(3)\n",
    "# Data type\n",
    "cars.dtypes\n",
    "cars.info()"
   ]
  },
  {
   "cell_type": "code",
   "execution_count": 110,
   "metadata": {},
   "outputs": [
    {
     "name": "stdout",
     "output_type": "stream",
     "text": [
      "(7, 3)\n"
     ]
    },
    {
     "data": {
      "text/html": [
       "<div>\n",
       "<style scoped>\n",
       "    .dataframe tbody tr th:only-of-type {\n",
       "        vertical-align: middle;\n",
       "    }\n",
       "\n",
       "    .dataframe tbody tr th {\n",
       "        vertical-align: top;\n",
       "    }\n",
       "\n",
       "    .dataframe thead th {\n",
       "        text-align: right;\n",
       "    }\n",
       "</style>\n",
       "<table border=\"1\" class=\"dataframe\">\n",
       "  <thead>\n",
       "    <tr style=\"text-align: right;\">\n",
       "      <th></th>\n",
       "      <th>cars_per_cap</th>\n",
       "      <th>country</th>\n",
       "      <th>drives_right</th>\n",
       "    </tr>\n",
       "    <tr>\n",
       "      <th>ctrcode</th>\n",
       "      <th></th>\n",
       "      <th></th>\n",
       "      <th></th>\n",
       "    </tr>\n",
       "  </thead>\n",
       "  <tbody>\n",
       "    <tr>\n",
       "      <th>US</th>\n",
       "      <td>809</td>\n",
       "      <td>United States</td>\n",
       "      <td>True</td>\n",
       "    </tr>\n",
       "    <tr>\n",
       "      <th>AUS</th>\n",
       "      <td>731</td>\n",
       "      <td>Australia</td>\n",
       "      <td>False</td>\n",
       "    </tr>\n",
       "    <tr>\n",
       "      <th>JPN</th>\n",
       "      <td>588</td>\n",
       "      <td>Japan</td>\n",
       "      <td>False</td>\n",
       "    </tr>\n",
       "    <tr>\n",
       "      <th>IN</th>\n",
       "      <td>18</td>\n",
       "      <td>India</td>\n",
       "      <td>False</td>\n",
       "    </tr>\n",
       "    <tr>\n",
       "      <th>RUS</th>\n",
       "      <td>200</td>\n",
       "      <td>Russia</td>\n",
       "      <td>True</td>\n",
       "    </tr>\n",
       "    <tr>\n",
       "      <th>MOR</th>\n",
       "      <td>70</td>\n",
       "      <td>Morocco</td>\n",
       "      <td>True</td>\n",
       "    </tr>\n",
       "    <tr>\n",
       "      <th>EG</th>\n",
       "      <td>45</td>\n",
       "      <td>Egypt</td>\n",
       "      <td>True</td>\n",
       "    </tr>\n",
       "  </tbody>\n",
       "</table>\n",
       "</div>"
      ],
      "text/plain": [
       "         cars_per_cap        country  drives_right\n",
       "ctrcode                                           \n",
       "US                809  United States          True\n",
       "AUS               731      Australia         False\n",
       "JPN               588          Japan         False\n",
       "IN                 18          India         False\n",
       "RUS               200         Russia          True\n",
       "MOR                70        Morocco          True\n",
       "EG                 45          Egypt          True"
      ]
     },
     "execution_count": 110,
     "metadata": {},
     "output_type": "execute_result"
    }
   ],
   "source": [
    "# Summary Statistics\n",
    "cars.describe()\n",
    "# Set DF Column Index\n",
    "cars_id = cars.set_index(\"ctrcode\")\n",
    "print(cars_id.shape)\n",
    "cars_id"
   ]
  },
  {
   "cell_type": "code",
   "execution_count": 111,
   "metadata": {},
   "outputs": [
    {
     "data": {
      "text/html": [
       "<div>\n",
       "<style scoped>\n",
       "    .dataframe tbody tr th:only-of-type {\n",
       "        vertical-align: middle;\n",
       "    }\n",
       "\n",
       "    .dataframe tbody tr th {\n",
       "        vertical-align: top;\n",
       "    }\n",
       "\n",
       "    .dataframe thead th {\n",
       "        text-align: right;\n",
       "    }\n",
       "</style>\n",
       "<table border=\"1\" class=\"dataframe\">\n",
       "  <thead>\n",
       "    <tr style=\"text-align: right;\">\n",
       "      <th></th>\n",
       "      <th>cars_per_cap</th>\n",
       "      <th>country</th>\n",
       "      <th>drives_right</th>\n",
       "    </tr>\n",
       "    <tr>\n",
       "      <th>ctrcode</th>\n",
       "      <th></th>\n",
       "      <th></th>\n",
       "      <th></th>\n",
       "    </tr>\n",
       "  </thead>\n",
       "  <tbody>\n",
       "    <tr>\n",
       "      <th>AUS</th>\n",
       "      <td>731</td>\n",
       "      <td>Australia</td>\n",
       "      <td>False</td>\n",
       "    </tr>\n",
       "    <tr>\n",
       "      <th>EG</th>\n",
       "      <td>45</td>\n",
       "      <td>Egypt</td>\n",
       "      <td>True</td>\n",
       "    </tr>\n",
       "  </tbody>\n",
       "</table>\n",
       "</div>"
      ],
      "text/plain": [
       "         cars_per_cap    country  drives_right\n",
       "ctrcode                                       \n",
       "AUS               731  Australia         False\n",
       "EG                 45      Egypt          True"
      ]
     },
     "execution_count": 111,
     "metadata": {},
     "output_type": "execute_result"
    }
   ],
   "source": [
    "select = cars_id.loc[['AUS', 'EG']]\n",
    "select"
   ]
  },
  {
   "cell_type": "code",
   "execution_count": 117,
   "metadata": {},
   "outputs": [
    {
     "data": {
      "text/html": [
       "<div>\n",
       "<style scoped>\n",
       "    .dataframe tbody tr th:only-of-type {\n",
       "        vertical-align: middle;\n",
       "    }\n",
       "\n",
       "    .dataframe tbody tr th {\n",
       "        vertical-align: top;\n",
       "    }\n",
       "\n",
       "    .dataframe thead th {\n",
       "        text-align: right;\n",
       "    }\n",
       "</style>\n",
       "<table border=\"1\" class=\"dataframe\">\n",
       "  <thead>\n",
       "    <tr style=\"text-align: right;\">\n",
       "      <th></th>\n",
       "      <th>country</th>\n",
       "      <th>drives_right</th>\n",
       "    </tr>\n",
       "    <tr>\n",
       "      <th>ctrcode</th>\n",
       "      <th></th>\n",
       "      <th></th>\n",
       "    </tr>\n",
       "  </thead>\n",
       "  <tbody>\n",
       "    <tr>\n",
       "      <th>AUS</th>\n",
       "      <td>Australia</td>\n",
       "      <td>False</td>\n",
       "    </tr>\n",
       "    <tr>\n",
       "      <th>EG</th>\n",
       "      <td>Egypt</td>\n",
       "      <td>True</td>\n",
       "    </tr>\n",
       "  </tbody>\n",
       "</table>\n",
       "</div>"
      ],
      "text/plain": [
       "           country  drives_right\n",
       "ctrcode                         \n",
       "AUS      Australia         False\n",
       "EG           Egypt          True"
      ]
     },
     "execution_count": 117,
     "metadata": {},
     "output_type": "execute_result"
    }
   ],
   "source": [
    "select = cars_id.loc[['AUS', 'EG'],['country','drives_right']]\n",
    "select"
   ]
  },
  {
   "cell_type": "code",
   "execution_count": 123,
   "metadata": {},
   "outputs": [
    {
     "data": {
      "text/html": [
       "<div>\n",
       "<style scoped>\n",
       "    .dataframe tbody tr th:only-of-type {\n",
       "        vertical-align: middle;\n",
       "    }\n",
       "\n",
       "    .dataframe tbody tr th {\n",
       "        vertical-align: top;\n",
       "    }\n",
       "\n",
       "    .dataframe thead th {\n",
       "        text-align: right;\n",
       "    }\n",
       "</style>\n",
       "<table border=\"1\" class=\"dataframe\">\n",
       "  <thead>\n",
       "    <tr style=\"text-align: right;\">\n",
       "      <th></th>\n",
       "      <th>cars_per_cap</th>\n",
       "      <th>country</th>\n",
       "      <th>drives_right</th>\n",
       "    </tr>\n",
       "    <tr>\n",
       "      <th>ctrcode</th>\n",
       "      <th></th>\n",
       "      <th></th>\n",
       "      <th></th>\n",
       "    </tr>\n",
       "  </thead>\n",
       "  <tbody>\n",
       "    <tr>\n",
       "      <th>AUS</th>\n",
       "      <td>731</td>\n",
       "      <td>Australia</td>\n",
       "      <td>False</td>\n",
       "    </tr>\n",
       "    <tr>\n",
       "      <th>JPN</th>\n",
       "      <td>588</td>\n",
       "      <td>Japan</td>\n",
       "      <td>False</td>\n",
       "    </tr>\n",
       "  </tbody>\n",
       "</table>\n",
       "</div>"
      ],
      "text/plain": [
       "         cars_per_cap    country  drives_right\n",
       "ctrcode                                       \n",
       "AUS               731  Australia         False\n",
       "JPN               588      Japan         False"
      ]
     },
     "execution_count": 123,
     "metadata": {},
     "output_type": "execute_result"
    }
   ],
   "source": [
    "select = cars_id.iloc[range(1,3)]\n",
    "select"
   ]
  },
  {
   "cell_type": "code",
   "execution_count": 121,
   "metadata": {},
   "outputs": [
    {
     "data": {
      "text/html": [
       "<div>\n",
       "<style scoped>\n",
       "    .dataframe tbody tr th:only-of-type {\n",
       "        vertical-align: middle;\n",
       "    }\n",
       "\n",
       "    .dataframe tbody tr th {\n",
       "        vertical-align: top;\n",
       "    }\n",
       "\n",
       "    .dataframe thead th {\n",
       "        text-align: right;\n",
       "    }\n",
       "</style>\n",
       "<table border=\"1\" class=\"dataframe\">\n",
       "  <thead>\n",
       "    <tr style=\"text-align: right;\">\n",
       "      <th></th>\n",
       "      <th>country</th>\n",
       "      <th>drives_right</th>\n",
       "    </tr>\n",
       "    <tr>\n",
       "      <th>ctrcode</th>\n",
       "      <th></th>\n",
       "      <th></th>\n",
       "    </tr>\n",
       "  </thead>\n",
       "  <tbody>\n",
       "    <tr>\n",
       "      <th>US</th>\n",
       "      <td>United States</td>\n",
       "      <td>True</td>\n",
       "    </tr>\n",
       "    <tr>\n",
       "      <th>AUS</th>\n",
       "      <td>Australia</td>\n",
       "      <td>False</td>\n",
       "    </tr>\n",
       "    <tr>\n",
       "      <th>JPN</th>\n",
       "      <td>Japan</td>\n",
       "      <td>False</td>\n",
       "    </tr>\n",
       "    <tr>\n",
       "      <th>IN</th>\n",
       "      <td>India</td>\n",
       "      <td>False</td>\n",
       "    </tr>\n",
       "    <tr>\n",
       "      <th>RUS</th>\n",
       "      <td>Russia</td>\n",
       "      <td>True</td>\n",
       "    </tr>\n",
       "    <tr>\n",
       "      <th>MOR</th>\n",
       "      <td>Morocco</td>\n",
       "      <td>True</td>\n",
       "    </tr>\n",
       "    <tr>\n",
       "      <th>EG</th>\n",
       "      <td>Egypt</td>\n",
       "      <td>True</td>\n",
       "    </tr>\n",
       "  </tbody>\n",
       "</table>\n",
       "</div>"
      ],
      "text/plain": [
       "               country  drives_right\n",
       "ctrcode                             \n",
       "US       United States          True\n",
       "AUS          Australia         False\n",
       "JPN              Japan         False\n",
       "IN               India         False\n",
       "RUS             Russia          True\n",
       "MOR            Morocco          True\n",
       "EG               Egypt          True"
      ]
     },
     "execution_count": 121,
     "metadata": {},
     "output_type": "execute_result"
    }
   ],
   "source": [
    "select = cars_id.loc[:,['country','drives_right']]\n",
    "select"
   ]
  },
  {
   "cell_type": "code",
   "execution_count": 125,
   "metadata": {},
   "outputs": [
    {
     "data": {
      "text/html": [
       "<div>\n",
       "<style scoped>\n",
       "    .dataframe tbody tr th:only-of-type {\n",
       "        vertical-align: middle;\n",
       "    }\n",
       "\n",
       "    .dataframe tbody tr th {\n",
       "        vertical-align: top;\n",
       "    }\n",
       "\n",
       "    .dataframe thead th {\n",
       "        text-align: right;\n",
       "    }\n",
       "</style>\n",
       "<table border=\"1\" class=\"dataframe\">\n",
       "  <thead>\n",
       "    <tr style=\"text-align: right;\">\n",
       "      <th></th>\n",
       "      <th>country</th>\n",
       "      <th>drives_right</th>\n",
       "    </tr>\n",
       "    <tr>\n",
       "      <th>ctrcode</th>\n",
       "      <th></th>\n",
       "      <th></th>\n",
       "    </tr>\n",
       "  </thead>\n",
       "  <tbody>\n",
       "    <tr>\n",
       "      <th>AUS</th>\n",
       "      <td>Australia</td>\n",
       "      <td>False</td>\n",
       "    </tr>\n",
       "    <tr>\n",
       "      <th>JPN</th>\n",
       "      <td>Japan</td>\n",
       "      <td>False</td>\n",
       "    </tr>\n",
       "  </tbody>\n",
       "</table>\n",
       "</div>"
      ],
      "text/plain": [
       "           country  drives_right\n",
       "ctrcode                         \n",
       "AUS      Australia         False\n",
       "JPN          Japan         False"
      ]
     },
     "execution_count": 125,
     "metadata": {},
     "output_type": "execute_result"
    }
   ],
   "source": [
    "select = cars_id.iloc[[1, 2],[1,2]]\n",
    "select"
   ]
  },
  {
   "cell_type": "markdown",
   "metadata": {},
   "source": [
    "#  High Rating Movies Criteria"
   ]
  },
  {
   "cell_type": "code",
   "execution_count": null,
   "metadata": {},
   "outputs": [],
   "source": []
  }
 ],
 "metadata": {
  "kernelspec": {
   "display_name": "Python 3",
   "language": "python",
   "name": "python3"
  },
  "language_info": {
   "codemirror_mode": {
    "name": "ipython",
    "version": 3
   },
   "file_extension": ".py",
   "mimetype": "text/x-python",
   "name": "python",
   "nbconvert_exporter": "python",
   "pygments_lexer": "ipython3",
   "version": "3.6.4"
  }
 },
 "nbformat": 4,
 "nbformat_minor": 2
}
