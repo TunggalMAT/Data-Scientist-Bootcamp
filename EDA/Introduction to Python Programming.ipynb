{
 "cells": [
  {
   "cell_type": "markdown",
   "metadata": {},
   "source": [
    "# Introduction to Basic Python"
   ]
  },
  {
   "cell_type": "code",
   "execution_count": 1,
   "metadata": {},
   "outputs": [],
   "source": [
    "#Importing libraries\n",
    "\n",
    "#install pip in conda\n",
    "#!conda install pip\n",
    "import pandas as pd, numpy as np"
   ]
  },
  {
   "cell_type": "markdown",
   "metadata": {},
   "source": [
    "## 1. Indentation\n",
    "Python uses indentation for if-else statement, looping statement, so forth.\n",
    "Other programming languages usually use bracket"
   ]
  },
  {
   "cell_type": "code",
   "execution_count": 2,
   "metadata": {},
   "outputs": [
    {
     "name": "stdout",
     "output_type": "stream",
     "text": [
      "This student passed the course\n"
     ]
    }
   ],
   "source": [
    "#assign a number into variable\n",
    "test = 80\n",
    "\n",
    "#check the score\n",
    "if test < 70:\n",
    "    print('This student did not pass the course')\n",
    "elif test > 70 :\n",
    "    print('This student passed the course')"
   ]
  },
  {
   "cell_type": "markdown",
   "metadata": {},
   "source": [
    "# 2. Variables and types\n",
    "On Python, we do not need to declare variables, just directly assign the data into a variable"
   ]
  },
  {
   "cell_type": "code",
   "execution_count": 3,
   "metadata": {},
   "outputs": [
    {
     "name": "stdout",
     "output_type": "stream",
     "text": [
      "65\n",
      "Christina\n",
      "87.5\n"
     ]
    }
   ],
   "source": [
    "#define an integer\n",
    "weight = 65\n",
    "print(weight)\n",
    "\n",
    "#define a string - can use '' or \"\", it does not matter\n",
    "staff_name = 'Christina'\n",
    "print(staff_name)\n",
    "\n",
    "#define a float\n",
    "exam_score = 87.50\n",
    "print(exam_score)"
   ]
  },
  {
   "cell_type": "code",
   "execution_count": 4,
   "metadata": {},
   "outputs": [
    {
     "name": "stdout",
     "output_type": "stream",
     "text": [
      "Agil has bought a bag from Adi\n"
     ]
    }
   ],
   "source": [
    "#define several variables simultaneously\n",
    "seller, buyer = 'Adi', 'Agil'\n",
    "print('%s has bought a bag from %s' % (buyer, seller))"
   ]
  },
  {
   "cell_type": "markdown",
   "metadata": {},
   "source": [
    "## Exercise"
   ]
  },
  {
   "cell_type": "code",
   "execution_count": 19,
   "metadata": {},
   "outputs": [
    {
     "name": "stdout",
     "output_type": "stream",
     "text": [
      "Callum , 178.394509 , 39\n",
      "178.39\n",
      "customer name is Callum ,height %.2f cm and age: 39.0\n",
      "customer name is Callum, height: 178.39 cm and age: 39\n"
     ]
    }
   ],
   "source": [
    "#define several variables\n",
    "customer = 'Callum'\n",
    "height = 178.394509\n",
    "age = 39\n",
    "\n",
    "#print the customer name, height and age in one line, \n",
    "print(customer, ',', height, ',', age )\n",
    "#give 2 numbers after full stop on height variable\n",
    "print('%.2f' %(height))\n",
    "#format print: customer name is henny, height: 178.05 cm and age: 39\n",
    "print('customer name is',customer, ',height', '%.2f', 'cm and age:', age % (height))\n",
    "print('customer name is %s, height: %.2f cm and age: %d' % (customer, height, age))\n",
    "\n",
    "\n"
   ]
  },
  {
   "cell_type": "markdown",
   "metadata": {},
   "source": [
    "# 3. Lists\n",
    "Python has many types of storing data. One of the popular ways to saving it is list"
   ]
  },
  {
   "cell_type": "code",
   "execution_count": 20,
   "metadata": {},
   "outputs": [
    {
     "name": "stdout",
     "output_type": "stream",
     "text": [
      "Abigail\n",
      "5\n"
     ]
    }
   ],
   "source": [
    "#create a list for 5 employees (same data type)\n",
    "employees = ['Abigail', 'Bianca', 'Charlie', \n",
    "            'Dorothy', 'Erica']\n",
    "\n",
    "print(employees[0])\n",
    "print(len(employees))"
   ]
  },
  {
   "cell_type": "code",
   "execution_count": 21,
   "metadata": {},
   "outputs": [
    {
     "name": "stdout",
     "output_type": "stream",
     "text": [
      "['Abigail', 'Bianca', 'Charlie', 'Dorothy', 'Erica', 'Mikhail']\n"
     ]
    }
   ],
   "source": [
    "#add data into the existing list\n",
    "employees.append('Mikhail')\n",
    "print(employees)"
   ]
  },
  {
   "cell_type": "code",
   "execution_count": 22,
   "metadata": {},
   "outputs": [
    {
     "name": "stdout",
     "output_type": "stream",
     "text": [
      "['Bianca', 12036564, 40]\n",
      "45\n",
      "5\n"
     ]
    }
   ],
   "source": [
    "#create a matrix, one array can be stored multiple data type\n",
    "matrix = [['Abigail', 100059540, 30],\n",
    "         ['Bianca', 12036564, 40],\n",
    "         ['Charlie', 93465650, 45],\n",
    "         ['Dorothy', 376170, 50],\n",
    "         ['Erica', 7657120, 35]]\n",
    "\n",
    "print(matrix[1])\n",
    "print(matrix[2][2])\n",
    "print(len(matrix))"
   ]
  },
  {
   "cell_type": "markdown",
   "metadata": {},
   "source": [
    "## Exercise"
   ]
  },
  {
   "cell_type": "code",
   "execution_count": 35,
   "metadata": {},
   "outputs": [
    {
     "name": "stdout",
     "output_type": "stream",
     "text": [
      "Andry\n",
      "Donny\n"
     ]
    }
   ],
   "source": [
    "#create a list of 6 customers\n",
    "employees = ['Brian', \n",
    "             'Dian', \n",
    "             'Kristin', \n",
    "             'Donny', \n",
    "             'Andry',\n",
    "             'Stella']\n",
    "\n",
    "#print Andry from customer array \n",
    "print(employees[4])\n",
    "\n",
    "#print Donny from customer array\n",
    "print(employees[3])\n"
   ]
  },
  {
   "cell_type": "code",
   "execution_count": 36,
   "metadata": {},
   "outputs": [
    {
     "name": "stdout",
     "output_type": "stream",
     "text": [
      "['Andry', 7657120, 23]\n",
      "23\n"
     ]
    }
   ],
   "source": [
    "#create a matrix, one array can be stored multiple data type\n",
    "#this matrix consist of customer name, salary and age\n",
    "matrix = [['Brian', 100059540, 20],\n",
    "         ['Dian', 12036564, 28],\n",
    "         ['Kristin', 93465650, 25],\n",
    "         ['Donny', 376170, 30],\n",
    "         ['Andry', 7657120, 23],\n",
    "         ['Stella', 3452343, 29]]\n",
    "\n",
    "#print Andry's detail\n",
    "print (matrix[4])\n",
    "\n",
    "#print Stella's age\n",
    "print(matrix[4][2])\n",
    "\n"
   ]
  },
  {
   "cell_type": "markdown",
   "metadata": {},
   "source": [
    "# 4. Conditions\n",
    "Python employs boolean variables to evaluate the given conditions."
   ]
  },
  {
   "cell_type": "code",
   "execution_count": null,
   "metadata": {},
   "outputs": [],
   "source": [
    "shoes = 250000\n",
    "if shoes < 500000 and shoes > 100000:\n",
    "    print('Shoes price is between 100.000 and 500.000')"
   ]
  },
  {
   "cell_type": "markdown",
   "metadata": {},
   "source": [
    "## Exercise"
   ]
  },
  {
   "cell_type": "code",
   "execution_count": 39,
   "metadata": {},
   "outputs": [
    {
     "name": "stdout",
     "output_type": "stream",
     "text": [
      "university\n"
     ]
    }
   ],
   "source": [
    "#create a program that groups a student into type of education level with these rules\n",
    "#elementary: age from 6 - 12\n",
    "#junior_hs: age from 12 - 15\n",
    "#high_school: age from 15 - 18\n",
    "#university: age from 18 - 22\n",
    "\n",
    "Ano = 19\n",
    "\n",
    "#put your code here\n",
    "if 6 < Ano < 12 : \n",
    "    print('Elementary')\n",
    "elif 12 < Ano < 15 : \n",
    "    print('Junior_hs')\n",
    "elif 15 < Ano < 18 : \n",
    "    print('high_school')\n",
    "elif 18 < Ano < 22 : \n",
    "    print('university')\n",
    "\n"
   ]
  },
  {
   "cell_type": "markdown",
   "metadata": {},
   "source": [
    "# 5. Looping\n",
    "Python has function to loop iterate over a given sequence with 'for' and 'while'"
   ]
  },
  {
   "cell_type": "code",
   "execution_count": 40,
   "metadata": {},
   "outputs": [
    {
     "name": "stdout",
     "output_type": "stream",
     "text": [
      "Staff 1 : Adi\n",
      "Staff 2 : Agil\n",
      "Staff 3 : Henny\n",
      "Staff 4 : Ano\n",
      "Staff 5 : Hengky\n"
     ]
    }
   ],
   "source": [
    "#create a list with 5 staffs\n",
    "staffs = ['Adi', 'Agil', 'Henny', 'Ano', 'Hengky']\n",
    "\n",
    "#print all the staff\n",
    "for index, staff in enumerate(staffs):\n",
    "    print('Staff %d : %s' % (index+1, staff))"
   ]
  },
  {
   "cell_type": "markdown",
   "metadata": {},
   "source": [
    "## Exercise"
   ]
  },
  {
   "cell_type": "code",
   "execution_count": 47,
   "metadata": {},
   "outputs": [
    {
     "name": "stdout",
     "output_type": "stream",
     "text": [
      "Staff 1 : Adi has debt 5430340.41\n",
      "Staff 2 : Agil has debt 30345.03\n",
      "Staff 3 : Henny has debt 93445.34\n",
      "Staff 4 : Ano has debt 245454.45\n",
      "Staff 5 : Hengky has debt 842555.53\n"
     ]
    }
   ],
   "source": [
    "#add one variable\n",
    "debts = [5430340.405, 30345.034, 93445.344, 245454.453, 842555.533]\n",
    "\n",
    "#print the staff name from staffs variable and with their debts (with 2 numbers after full stop)\n",
    "#example staff 1 : Adi has debt 5430340.40\n",
    "for index, staff in enumerate(staffs):\n",
    "    print('Staff %d : %s has debt %.2f' % (index+1, staff, debts[index]))"
   ]
  },
  {
   "cell_type": "markdown",
   "metadata": {},
   "source": [
    "# 6. Function\n",
    "Instead of write the same code many times.\n",
    "Code is used several times, can be created into function."
   ]
  },
  {
   "cell_type": "code",
   "execution_count": 48,
   "metadata": {},
   "outputs": [
    {
     "name": "stdout",
     "output_type": "stream",
     "text": [
      "40000000\n"
     ]
    }
   ],
   "source": [
    "#define a function that calculates total salary\n",
    "def print_total_salary(employee_number, salary):\n",
    "    total = employee_number * salary\n",
    "    print(total)\n",
    "\n",
    "print_total_salary(10, 4000000)"
   ]
  },
  {
   "cell_type": "code",
   "execution_count": 49,
   "metadata": {},
   "outputs": [
    {
     "name": "stdout",
     "output_type": "stream",
     "text": [
      "48000000.0\n"
     ]
    }
   ],
   "source": [
    "#define a function that calculates total salary\n",
    "def calculate_total_salary(employee_number, salary):\n",
    "    total = employee_number * salary\n",
    "    return total\n",
    "\n",
    "#with return, we can store the result into a variable\n",
    "#therefore, we can recall it \n",
    "total_salary = calculate_total_salary(10, 4000000)\n",
    "total_expense = total_salary + (0.2 * total_salary)\n",
    "print(total_expense)"
   ]
  },
  {
   "cell_type": "markdown",
   "metadata": {},
   "source": [
    "## Exercise"
   ]
  },
  {
   "cell_type": "code",
   "execution_count": 59,
   "metadata": {},
   "outputs": [
    {
     "name": "stdout",
     "output_type": "stream",
     "text": [
      "Total price anda : 92000.00\n"
     ]
    }
   ],
   "source": [
    "#create a function that calculate total price\n",
    "#food = 60000, drink = 20000, ppn = 10%, service charge = 5%\n",
    "#store the result into a variable\n",
    "#print the result\n",
    "def calculate_total_price(food,drink,ppn,charge) :\n",
    "    total2 = food + drink + ((ppn/100)*(food+drink)) + ((charge/100)*(food+drink))\n",
    "    return total2\n",
    "                                                     \n",
    "tunggal_price = calculate_total_price(60000,20000,10,5)\n",
    "print ('Total price anda : %.2f'%(tunggal_price))"
   ]
  },
  {
   "cell_type": "markdown",
   "metadata": {},
   "source": [
    "# 7. Pandas"
   ]
  },
  {
   "cell_type": "code",
   "execution_count": 94,
   "metadata": {},
   "outputs": [
    {
     "data": {
      "text/html": [
       "<div>\n",
       "<style scoped>\n",
       "    .dataframe tbody tr th:only-of-type {\n",
       "        vertical-align: middle;\n",
       "    }\n",
       "\n",
       "    .dataframe tbody tr th {\n",
       "        vertical-align: top;\n",
       "    }\n",
       "\n",
       "    .dataframe thead th {\n",
       "        text-align: right;\n",
       "    }\n",
       "</style>\n",
       "<table border=\"1\" class=\"dataframe\">\n",
       "  <thead>\n",
       "    <tr style=\"text-align: right;\">\n",
       "      <th></th>\n",
       "      <th>staff</th>\n",
       "      <th>debt</th>\n",
       "      <th>age</th>\n",
       "    </tr>\n",
       "  </thead>\n",
       "  <tbody>\n",
       "    <tr>\n",
       "      <th>0</th>\n",
       "      <td>Brian</td>\n",
       "      <td>100059540</td>\n",
       "      <td>20</td>\n",
       "    </tr>\n",
       "    <tr>\n",
       "      <th>1</th>\n",
       "      <td>Dian</td>\n",
       "      <td>12036564</td>\n",
       "      <td>28</td>\n",
       "    </tr>\n",
       "    <tr>\n",
       "      <th>2</th>\n",
       "      <td>Kristin</td>\n",
       "      <td>93465650</td>\n",
       "      <td>25</td>\n",
       "    </tr>\n",
       "    <tr>\n",
       "      <th>3</th>\n",
       "      <td>Donny</td>\n",
       "      <td>376170</td>\n",
       "      <td>30</td>\n",
       "    </tr>\n",
       "    <tr>\n",
       "      <th>4</th>\n",
       "      <td>Andry</td>\n",
       "      <td>7657120</td>\n",
       "      <td>23</td>\n",
       "    </tr>\n",
       "    <tr>\n",
       "      <th>5</th>\n",
       "      <td>Stella</td>\n",
       "      <td>3452343</td>\n",
       "      <td>29</td>\n",
       "    </tr>\n",
       "  </tbody>\n",
       "</table>\n",
       "</div>"
      ],
      "text/plain": [
       "     staff       debt  age\n",
       "0    Brian  100059540   20\n",
       "1     Dian   12036564   28\n",
       "2  Kristin   93465650   25\n",
       "3    Donny     376170   30\n",
       "4    Andry    7657120   23\n",
       "5   Stella    3452343   29"
      ]
     },
     "execution_count": 94,
     "metadata": {},
     "output_type": "execute_result"
    }
   ],
   "source": [
    "#import the library\n",
    "import pandas as pd\n",
    "\n",
    "'''\n",
    "The previous matrix\n",
    "matrix = [['Brian', 100059540, 20],\n",
    "         ['Dian', 12036564, 10],\n",
    "         ['Kristin', 93465650, 15],\n",
    "         ['Donny', 376170, 10],\n",
    "         ['Andry', 7657120, 25],\n",
    "         ['Stella', 3452343, 34]]\n",
    "'''\n",
    "\n",
    "#create dataframe from array with the labels\n",
    "df = pd.DataFrame.from_records(matrix, columns=['staff', 'debt', 'age'])\n",
    "df"
   ]
  },
  {
   "cell_type": "code",
   "execution_count": 95,
   "metadata": {},
   "outputs": [
    {
     "data": {
      "text/plain": [
       "0      Brian\n",
       "1       Dian\n",
       "2    Kristin\n",
       "3      Donny\n",
       "4      Andry\n",
       "5     Stella\n",
       "Name: staff, dtype: object"
      ]
     },
     "execution_count": 95,
     "metadata": {},
     "output_type": "execute_result"
    }
   ],
   "source": [
    "#print one of the column - series \n",
    "df['staff']"
   ]
  },
  {
   "cell_type": "code",
   "execution_count": 96,
   "metadata": {},
   "outputs": [
    {
     "data": {
      "text/html": [
       "<div>\n",
       "<style scoped>\n",
       "    .dataframe tbody tr th:only-of-type {\n",
       "        vertical-align: middle;\n",
       "    }\n",
       "\n",
       "    .dataframe tbody tr th {\n",
       "        vertical-align: top;\n",
       "    }\n",
       "\n",
       "    .dataframe thead th {\n",
       "        text-align: right;\n",
       "    }\n",
       "</style>\n",
       "<table border=\"1\" class=\"dataframe\">\n",
       "  <thead>\n",
       "    <tr style=\"text-align: right;\">\n",
       "      <th></th>\n",
       "      <th>staff</th>\n",
       "      <th>age</th>\n",
       "    </tr>\n",
       "  </thead>\n",
       "  <tbody>\n",
       "    <tr>\n",
       "      <th>0</th>\n",
       "      <td>Brian</td>\n",
       "      <td>20</td>\n",
       "    </tr>\n",
       "    <tr>\n",
       "      <th>1</th>\n",
       "      <td>Dian</td>\n",
       "      <td>28</td>\n",
       "    </tr>\n",
       "    <tr>\n",
       "      <th>2</th>\n",
       "      <td>Kristin</td>\n",
       "      <td>25</td>\n",
       "    </tr>\n",
       "    <tr>\n",
       "      <th>3</th>\n",
       "      <td>Donny</td>\n",
       "      <td>30</td>\n",
       "    </tr>\n",
       "    <tr>\n",
       "      <th>4</th>\n",
       "      <td>Andry</td>\n",
       "      <td>23</td>\n",
       "    </tr>\n",
       "    <tr>\n",
       "      <th>5</th>\n",
       "      <td>Stella</td>\n",
       "      <td>29</td>\n",
       "    </tr>\n",
       "  </tbody>\n",
       "</table>\n",
       "</div>"
      ],
      "text/plain": [
       "     staff  age\n",
       "0    Brian   20\n",
       "1     Dian   28\n",
       "2  Kristin   25\n",
       "3    Donny   30\n",
       "4    Andry   23\n",
       "5   Stella   29"
      ]
     },
     "execution_count": 96,
     "metadata": {},
     "output_type": "execute_result"
    }
   ],
   "source": [
    "#print several columns - dataframe\n",
    "df[['staff', 'age']]"
   ]
  },
  {
   "cell_type": "code",
   "execution_count": 97,
   "metadata": {},
   "outputs": [
    {
     "data": {
      "text/html": [
       "<div>\n",
       "<style scoped>\n",
       "    .dataframe tbody tr th:only-of-type {\n",
       "        vertical-align: middle;\n",
       "    }\n",
       "\n",
       "    .dataframe tbody tr th {\n",
       "        vertical-align: top;\n",
       "    }\n",
       "\n",
       "    .dataframe thead th {\n",
       "        text-align: right;\n",
       "    }\n",
       "</style>\n",
       "<table border=\"1\" class=\"dataframe\">\n",
       "  <thead>\n",
       "    <tr style=\"text-align: right;\">\n",
       "      <th></th>\n",
       "      <th>staff</th>\n",
       "      <th>debt</th>\n",
       "      <th>age</th>\n",
       "      <th>city</th>\n",
       "      <th>year</th>\n",
       "    </tr>\n",
       "  </thead>\n",
       "  <tbody>\n",
       "    <tr>\n",
       "      <th>0</th>\n",
       "      <td>Brian</td>\n",
       "      <td>100059540</td>\n",
       "      <td>20</td>\n",
       "      <td>Jakarta</td>\n",
       "      <td>2010</td>\n",
       "    </tr>\n",
       "    <tr>\n",
       "      <th>1</th>\n",
       "      <td>Dian</td>\n",
       "      <td>12036564</td>\n",
       "      <td>28</td>\n",
       "      <td>Bandung</td>\n",
       "      <td>2009</td>\n",
       "    </tr>\n",
       "    <tr>\n",
       "      <th>2</th>\n",
       "      <td>Kristin</td>\n",
       "      <td>93465650</td>\n",
       "      <td>25</td>\n",
       "      <td>Jakarta</td>\n",
       "      <td>1992</td>\n",
       "    </tr>\n",
       "    <tr>\n",
       "      <th>3</th>\n",
       "      <td>Donny</td>\n",
       "      <td>376170</td>\n",
       "      <td>30</td>\n",
       "      <td>Bali</td>\n",
       "      <td>2014</td>\n",
       "    </tr>\n",
       "    <tr>\n",
       "      <th>4</th>\n",
       "      <td>Andry</td>\n",
       "      <td>7657120</td>\n",
       "      <td>23</td>\n",
       "      <td>Semarang</td>\n",
       "      <td>2000</td>\n",
       "    </tr>\n",
       "    <tr>\n",
       "      <th>5</th>\n",
       "      <td>Stella</td>\n",
       "      <td>3452343</td>\n",
       "      <td>29</td>\n",
       "      <td>Jakarta</td>\n",
       "      <td>2005</td>\n",
       "    </tr>\n",
       "  </tbody>\n",
       "</table>\n",
       "</div>"
      ],
      "text/plain": [
       "     staff       debt  age      city  year\n",
       "0    Brian  100059540   20   Jakarta  2010\n",
       "1     Dian   12036564   28   Bandung  2009\n",
       "2  Kristin   93465650   25   Jakarta  1992\n",
       "3    Donny     376170   30      Bali  2014\n",
       "4    Andry    7657120   23  Semarang  2000\n",
       "5   Stella    3452343   29   Jakarta  2005"
      ]
     },
     "execution_count": 97,
     "metadata": {},
     "output_type": "execute_result"
    }
   ],
   "source": [
    "#add some variables\n",
    "cities = ['Jakarta', 'Bandung', 'Jakarta', 'Bali', 'Semarang', 'Jakarta']\n",
    "years = [2010, 2009, 1992, 2014, 2000, 2005]\n",
    "\n",
    "#add the variables into existing dataframe\n",
    "df['city'] = pd.Series(cities)\n",
    "df['year'] = pd.Series(years)\n",
    "\n",
    "df"
   ]
  },
  {
   "cell_type": "code",
   "execution_count": 98,
   "metadata": {},
   "outputs": [
    {
     "data": {
      "text/html": [
       "<div>\n",
       "<style scoped>\n",
       "    .dataframe tbody tr th:only-of-type {\n",
       "        vertical-align: middle;\n",
       "    }\n",
       "\n",
       "    .dataframe tbody tr th {\n",
       "        vertical-align: top;\n",
       "    }\n",
       "\n",
       "    .dataframe thead th {\n",
       "        text-align: right;\n",
       "    }\n",
       "</style>\n",
       "<table border=\"1\" class=\"dataframe\">\n",
       "  <thead>\n",
       "    <tr style=\"text-align: right;\">\n",
       "      <th></th>\n",
       "      <th>staff</th>\n",
       "      <th>debt</th>\n",
       "      <th>age</th>\n",
       "      <th>city</th>\n",
       "      <th>year</th>\n",
       "      <th>age_year</th>\n",
       "    </tr>\n",
       "  </thead>\n",
       "  <tbody>\n",
       "    <tr>\n",
       "      <th>0</th>\n",
       "      <td>Brian</td>\n",
       "      <td>100059540</td>\n",
       "      <td>20</td>\n",
       "      <td>Jakarta</td>\n",
       "      <td>2010</td>\n",
       "      <td>2030</td>\n",
       "    </tr>\n",
       "    <tr>\n",
       "      <th>1</th>\n",
       "      <td>Dian</td>\n",
       "      <td>12036564</td>\n",
       "      <td>28</td>\n",
       "      <td>Bandung</td>\n",
       "      <td>2009</td>\n",
       "      <td>2037</td>\n",
       "    </tr>\n",
       "    <tr>\n",
       "      <th>2</th>\n",
       "      <td>Kristin</td>\n",
       "      <td>93465650</td>\n",
       "      <td>25</td>\n",
       "      <td>Jakarta</td>\n",
       "      <td>1992</td>\n",
       "      <td>2017</td>\n",
       "    </tr>\n",
       "    <tr>\n",
       "      <th>3</th>\n",
       "      <td>Donny</td>\n",
       "      <td>376170</td>\n",
       "      <td>30</td>\n",
       "      <td>Bali</td>\n",
       "      <td>2014</td>\n",
       "      <td>2044</td>\n",
       "    </tr>\n",
       "    <tr>\n",
       "      <th>4</th>\n",
       "      <td>Andry</td>\n",
       "      <td>7657120</td>\n",
       "      <td>23</td>\n",
       "      <td>Semarang</td>\n",
       "      <td>2000</td>\n",
       "      <td>2023</td>\n",
       "    </tr>\n",
       "    <tr>\n",
       "      <th>5</th>\n",
       "      <td>Stella</td>\n",
       "      <td>3452343</td>\n",
       "      <td>29</td>\n",
       "      <td>Jakarta</td>\n",
       "      <td>2005</td>\n",
       "      <td>2034</td>\n",
       "    </tr>\n",
       "  </tbody>\n",
       "</table>\n",
       "</div>"
      ],
      "text/plain": [
       "     staff       debt  age      city  year  age_year\n",
       "0    Brian  100059540   20   Jakarta  2010      2030\n",
       "1     Dian   12036564   28   Bandung  2009      2037\n",
       "2  Kristin   93465650   25   Jakarta  1992      2017\n",
       "3    Donny     376170   30      Bali  2014      2044\n",
       "4    Andry    7657120   23  Semarang  2000      2023\n",
       "5   Stella    3452343   29   Jakarta  2005      2034"
      ]
     },
     "execution_count": 98,
     "metadata": {},
     "output_type": "execute_result"
    }
   ],
   "source": [
    "#add new column by manipulating two existing columns\n",
    "df['age_year'] = df['age'] + df['year']\n",
    "df"
   ]
  },
  {
   "cell_type": "code",
   "execution_count": 99,
   "metadata": {},
   "outputs": [
    {
     "data": {
      "text/html": [
       "<div>\n",
       "<style scoped>\n",
       "    .dataframe tbody tr th:only-of-type {\n",
       "        vertical-align: middle;\n",
       "    }\n",
       "\n",
       "    .dataframe tbody tr th {\n",
       "        vertical-align: top;\n",
       "    }\n",
       "\n",
       "    .dataframe thead th {\n",
       "        text-align: right;\n",
       "    }\n",
       "</style>\n",
       "<table border=\"1\" class=\"dataframe\">\n",
       "  <thead>\n",
       "    <tr style=\"text-align: right;\">\n",
       "      <th></th>\n",
       "      <th>staff</th>\n",
       "      <th>debt</th>\n",
       "      <th>age</th>\n",
       "      <th>city</th>\n",
       "      <th>year</th>\n",
       "    </tr>\n",
       "  </thead>\n",
       "  <tbody>\n",
       "    <tr>\n",
       "      <th>0</th>\n",
       "      <td>Brian</td>\n",
       "      <td>100059540</td>\n",
       "      <td>20</td>\n",
       "      <td>Jakarta</td>\n",
       "      <td>2010</td>\n",
       "    </tr>\n",
       "    <tr>\n",
       "      <th>1</th>\n",
       "      <td>Dian</td>\n",
       "      <td>12036564</td>\n",
       "      <td>28</td>\n",
       "      <td>Bandung</td>\n",
       "      <td>2009</td>\n",
       "    </tr>\n",
       "    <tr>\n",
       "      <th>2</th>\n",
       "      <td>Kristin</td>\n",
       "      <td>93465650</td>\n",
       "      <td>25</td>\n",
       "      <td>Jakarta</td>\n",
       "      <td>1992</td>\n",
       "    </tr>\n",
       "    <tr>\n",
       "      <th>3</th>\n",
       "      <td>Donny</td>\n",
       "      <td>376170</td>\n",
       "      <td>30</td>\n",
       "      <td>Bali</td>\n",
       "      <td>2014</td>\n",
       "    </tr>\n",
       "    <tr>\n",
       "      <th>4</th>\n",
       "      <td>Andry</td>\n",
       "      <td>7657120</td>\n",
       "      <td>23</td>\n",
       "      <td>Semarang</td>\n",
       "      <td>2000</td>\n",
       "    </tr>\n",
       "    <tr>\n",
       "      <th>5</th>\n",
       "      <td>Stella</td>\n",
       "      <td>3452343</td>\n",
       "      <td>29</td>\n",
       "      <td>Jakarta</td>\n",
       "      <td>2005</td>\n",
       "    </tr>\n",
       "  </tbody>\n",
       "</table>\n",
       "</div>"
      ],
      "text/plain": [
       "     staff       debt  age      city  year\n",
       "0    Brian  100059540   20   Jakarta  2010\n",
       "1     Dian   12036564   28   Bandung  2009\n",
       "2  Kristin   93465650   25   Jakarta  1992\n",
       "3    Donny     376170   30      Bali  2014\n",
       "4    Andry    7657120   23  Semarang  2000\n",
       "5   Stella    3452343   29   Jakarta  2005"
      ]
     },
     "execution_count": 99,
     "metadata": {},
     "output_type": "execute_result"
    }
   ],
   "source": [
    "#delete the age_year column, inplace for delete permanently\n",
    "df.drop('age_year', axis = 1, inplace = True)\n",
    "df"
   ]
  },
  {
   "cell_type": "markdown",
   "metadata": {},
   "source": [
    "### axis 1 = kolom\n",
    "### axis 0 = kolom"
   ]
  },
  {
   "cell_type": "code",
   "execution_count": 100,
   "metadata": {},
   "outputs": [
    {
     "data": {
      "text/html": [
       "<div>\n",
       "<style scoped>\n",
       "    .dataframe tbody tr th:only-of-type {\n",
       "        vertical-align: middle;\n",
       "    }\n",
       "\n",
       "    .dataframe tbody tr th {\n",
       "        vertical-align: top;\n",
       "    }\n",
       "\n",
       "    .dataframe thead th {\n",
       "        text-align: right;\n",
       "    }\n",
       "</style>\n",
       "<table border=\"1\" class=\"dataframe\">\n",
       "  <thead>\n",
       "    <tr style=\"text-align: right;\">\n",
       "      <th></th>\n",
       "      <th>staff</th>\n",
       "      <th>debt</th>\n",
       "      <th>age</th>\n",
       "      <th>city</th>\n",
       "      <th>year</th>\n",
       "    </tr>\n",
       "  </thead>\n",
       "  <tbody>\n",
       "    <tr>\n",
       "      <th>0</th>\n",
       "      <td>Brian</td>\n",
       "      <td>100059540</td>\n",
       "      <td>20</td>\n",
       "      <td>Jakarta</td>\n",
       "      <td>2010</td>\n",
       "    </tr>\n",
       "    <tr>\n",
       "      <th>1</th>\n",
       "      <td>Dian</td>\n",
       "      <td>12036564</td>\n",
       "      <td>28</td>\n",
       "      <td>Bandung</td>\n",
       "      <td>2009</td>\n",
       "    </tr>\n",
       "    <tr>\n",
       "      <th>2</th>\n",
       "      <td>Kristin</td>\n",
       "      <td>93465650</td>\n",
       "      <td>25</td>\n",
       "      <td>Jakarta</td>\n",
       "      <td>1992</td>\n",
       "    </tr>\n",
       "    <tr>\n",
       "      <th>4</th>\n",
       "      <td>Andry</td>\n",
       "      <td>7657120</td>\n",
       "      <td>23</td>\n",
       "      <td>Semarang</td>\n",
       "      <td>2000</td>\n",
       "    </tr>\n",
       "    <tr>\n",
       "      <th>5</th>\n",
       "      <td>Stella</td>\n",
       "      <td>3452343</td>\n",
       "      <td>29</td>\n",
       "      <td>Jakarta</td>\n",
       "      <td>2005</td>\n",
       "    </tr>\n",
       "  </tbody>\n",
       "</table>\n",
       "</div>"
      ],
      "text/plain": [
       "     staff       debt  age      city  year\n",
       "0    Brian  100059540   20   Jakarta  2010\n",
       "1     Dian   12036564   28   Bandung  2009\n",
       "2  Kristin   93465650   25   Jakarta  1992\n",
       "4    Andry    7657120   23  Semarang  2000\n",
       "5   Stella    3452343   29   Jakarta  2005"
      ]
     },
     "execution_count": 100,
     "metadata": {},
     "output_type": "execute_result"
    }
   ],
   "source": [
    "#delete the third row (Dorothy)\n",
    "df.drop(3, axis = 0, inplace = True)\n",
    "df"
   ]
  },
  {
   "cell_type": "code",
   "execution_count": 101,
   "metadata": {},
   "outputs": [
    {
     "data": {
      "text/html": [
       "<div>\n",
       "<style scoped>\n",
       "    .dataframe tbody tr th:only-of-type {\n",
       "        vertical-align: middle;\n",
       "    }\n",
       "\n",
       "    .dataframe tbody tr th {\n",
       "        vertical-align: top;\n",
       "    }\n",
       "\n",
       "    .dataframe thead th {\n",
       "        text-align: right;\n",
       "    }\n",
       "</style>\n",
       "<table border=\"1\" class=\"dataframe\">\n",
       "  <thead>\n",
       "    <tr style=\"text-align: right;\">\n",
       "      <th></th>\n",
       "      <th>staff</th>\n",
       "      <th>debt</th>\n",
       "      <th>age</th>\n",
       "      <th>city</th>\n",
       "      <th>year</th>\n",
       "    </tr>\n",
       "  </thead>\n",
       "  <tbody>\n",
       "    <tr>\n",
       "      <th>0</th>\n",
       "      <td>Brian</td>\n",
       "      <td>100059540</td>\n",
       "      <td>20</td>\n",
       "      <td>Jakarta</td>\n",
       "      <td>2010</td>\n",
       "    </tr>\n",
       "    <tr>\n",
       "      <th>1</th>\n",
       "      <td>Dian</td>\n",
       "      <td>12036564</td>\n",
       "      <td>28</td>\n",
       "      <td>Bandung</td>\n",
       "      <td>2009</td>\n",
       "    </tr>\n",
       "  </tbody>\n",
       "</table>\n",
       "</div>"
      ],
      "text/plain": [
       "   staff       debt  age     city  year\n",
       "0  Brian  100059540   20  Jakarta  2010\n",
       "1   Dian   12036564   28  Bandung  2009"
      ]
     },
     "execution_count": 101,
     "metadata": {},
     "output_type": "execute_result"
    }
   ],
   "source": [
    "#query data \n",
    "df.loc[(df['year'] >= 2009) & (df['year'] <= 2010)]"
   ]
  },
  {
   "cell_type": "code",
   "execution_count": 102,
   "metadata": {},
   "outputs": [
    {
     "data": {
      "text/plain": [
       "city\n",
       "Bandung     28.000000\n",
       "Jakarta     24.666667\n",
       "Semarang    23.000000\n",
       "Name: age, dtype: float64"
      ]
     },
     "execution_count": 102,
     "metadata": {},
     "output_type": "execute_result"
    }
   ],
   "source": [
    "#group by\n",
    "df.groupby('city').mean()['age']"
   ]
  },
  {
   "cell_type": "code",
   "execution_count": 103,
   "metadata": {},
   "outputs": [
    {
     "data": {
      "text/plain": [
       "array(['Jakarta', 'Bandung', 'Semarang'], dtype=object)"
      ]
     },
     "execution_count": 103,
     "metadata": {},
     "output_type": "execute_result"
    }
   ],
   "source": [
    "#find the unique values\n",
    "df['city'].unique()"
   ]
  },
  {
   "cell_type": "markdown",
   "metadata": {},
   "source": [
    "## Exercise"
   ]
  },
  {
   "cell_type": "code",
   "execution_count": 104,
   "metadata": {},
   "outputs": [
    {
     "data": {
      "text/html": [
       "<div>\n",
       "<style scoped>\n",
       "    .dataframe tbody tr th:only-of-type {\n",
       "        vertical-align: middle;\n",
       "    }\n",
       "\n",
       "    .dataframe tbody tr th {\n",
       "        vertical-align: top;\n",
       "    }\n",
       "\n",
       "    .dataframe thead th {\n",
       "        text-align: right;\n",
       "    }\n",
       "</style>\n",
       "<table border=\"1\" class=\"dataframe\">\n",
       "  <thead>\n",
       "    <tr style=\"text-align: right;\">\n",
       "      <th></th>\n",
       "      <th>staff</th>\n",
       "      <th>debt</th>\n",
       "      <th>age</th>\n",
       "      <th>city</th>\n",
       "      <th>year</th>\n",
       "    </tr>\n",
       "  </thead>\n",
       "  <tbody>\n",
       "    <tr>\n",
       "      <th>0</th>\n",
       "      <td>Brian</td>\n",
       "      <td>100059540</td>\n",
       "      <td>20</td>\n",
       "      <td>Jakarta</td>\n",
       "      <td>2010</td>\n",
       "    </tr>\n",
       "    <tr>\n",
       "      <th>1</th>\n",
       "      <td>Dian</td>\n",
       "      <td>12036564</td>\n",
       "      <td>28</td>\n",
       "      <td>Bandung</td>\n",
       "      <td>2009</td>\n",
       "    </tr>\n",
       "    <tr>\n",
       "      <th>2</th>\n",
       "      <td>Kristin</td>\n",
       "      <td>93465650</td>\n",
       "      <td>25</td>\n",
       "      <td>Jakarta</td>\n",
       "      <td>1992</td>\n",
       "    </tr>\n",
       "    <tr>\n",
       "      <th>4</th>\n",
       "      <td>Andry</td>\n",
       "      <td>7657120</td>\n",
       "      <td>23</td>\n",
       "      <td>Semarang</td>\n",
       "      <td>2000</td>\n",
       "    </tr>\n",
       "    <tr>\n",
       "      <th>5</th>\n",
       "      <td>Stella</td>\n",
       "      <td>3452343</td>\n",
       "      <td>29</td>\n",
       "      <td>Jakarta</td>\n",
       "      <td>2005</td>\n",
       "    </tr>\n",
       "  </tbody>\n",
       "</table>\n",
       "</div>"
      ],
      "text/plain": [
       "     staff       debt  age      city  year\n",
       "0    Brian  100059540   20   Jakarta  2010\n",
       "1     Dian   12036564   28   Bandung  2009\n",
       "2  Kristin   93465650   25   Jakarta  1992\n",
       "4    Andry    7657120   23  Semarang  2000\n",
       "5   Stella    3452343   29   Jakarta  2005"
      ]
     },
     "execution_count": 104,
     "metadata": {},
     "output_type": "execute_result"
    }
   ],
   "source": [
    "df"
   ]
  },
  {
   "cell_type": "code",
   "execution_count": 105,
   "metadata": {
    "scrolled": true
   },
   "outputs": [
    {
     "data": {
      "text/html": [
       "<div>\n",
       "<style scoped>\n",
       "    .dataframe tbody tr th:only-of-type {\n",
       "        vertical-align: middle;\n",
       "    }\n",
       "\n",
       "    .dataframe tbody tr th {\n",
       "        vertical-align: top;\n",
       "    }\n",
       "\n",
       "    .dataframe thead th {\n",
       "        text-align: right;\n",
       "    }\n",
       "</style>\n",
       "<table border=\"1\" class=\"dataframe\">\n",
       "  <thead>\n",
       "    <tr style=\"text-align: right;\">\n",
       "      <th></th>\n",
       "      <th>staff</th>\n",
       "      <th>debt</th>\n",
       "      <th>age</th>\n",
       "      <th>city</th>\n",
       "      <th>year</th>\n",
       "    </tr>\n",
       "  </thead>\n",
       "  <tbody>\n",
       "    <tr>\n",
       "      <th>0</th>\n",
       "      <td>Brian</td>\n",
       "      <td>100059540</td>\n",
       "      <td>20</td>\n",
       "      <td>Jakarta</td>\n",
       "      <td>2010</td>\n",
       "    </tr>\n",
       "    <tr>\n",
       "      <th>1</th>\n",
       "      <td>Dian</td>\n",
       "      <td>12036564</td>\n",
       "      <td>28</td>\n",
       "      <td>Bandung</td>\n",
       "      <td>2009</td>\n",
       "    </tr>\n",
       "    <tr>\n",
       "      <th>2</th>\n",
       "      <td>Kristin</td>\n",
       "      <td>93465650</td>\n",
       "      <td>25</td>\n",
       "      <td>Jakarta</td>\n",
       "      <td>1992</td>\n",
       "    </tr>\n",
       "    <tr>\n",
       "      <th>4</th>\n",
       "      <td>Andry</td>\n",
       "      <td>7657120</td>\n",
       "      <td>23</td>\n",
       "      <td>Semarang</td>\n",
       "      <td>2000</td>\n",
       "    </tr>\n",
       "    <tr>\n",
       "      <th>5</th>\n",
       "      <td>Stella</td>\n",
       "      <td>3452343</td>\n",
       "      <td>29</td>\n",
       "      <td>Jakarta</td>\n",
       "      <td>2005</td>\n",
       "    </tr>\n",
       "  </tbody>\n",
       "</table>\n",
       "</div>"
      ],
      "text/plain": [
       "     staff       debt  age      city  year\n",
       "0    Brian  100059540   20   Jakarta  2010\n",
       "1     Dian   12036564   28   Bandung  2009\n",
       "2  Kristin   93465650   25   Jakarta  1992\n",
       "4    Andry    7657120   23  Semarang  2000\n",
       "5   Stella    3452343   29   Jakarta  2005"
      ]
     },
     "execution_count": 105,
     "metadata": {},
     "output_type": "execute_result"
    }
   ],
   "source": [
    "df2 = df\n",
    "df2"
   ]
  },
  {
   "cell_type": "code",
   "execution_count": 106,
   "metadata": {},
   "outputs": [
    {
     "data": {
      "text/html": [
       "<div>\n",
       "<style scoped>\n",
       "    .dataframe tbody tr th:only-of-type {\n",
       "        vertical-align: middle;\n",
       "    }\n",
       "\n",
       "    .dataframe tbody tr th {\n",
       "        vertical-align: top;\n",
       "    }\n",
       "\n",
       "    .dataframe thead th {\n",
       "        text-align: right;\n",
       "    }\n",
       "</style>\n",
       "<table border=\"1\" class=\"dataframe\">\n",
       "  <thead>\n",
       "    <tr style=\"text-align: right;\">\n",
       "      <th></th>\n",
       "      <th>staff</th>\n",
       "      <th>debt</th>\n",
       "      <th>age</th>\n",
       "      <th>city</th>\n",
       "      <th>year</th>\n",
       "      <th>salaries</th>\n",
       "    </tr>\n",
       "  </thead>\n",
       "  <tbody>\n",
       "    <tr>\n",
       "      <th>0</th>\n",
       "      <td>Brian</td>\n",
       "      <td>100059540</td>\n",
       "      <td>20</td>\n",
       "      <td>Jakarta</td>\n",
       "      <td>2010</td>\n",
       "      <td>335434050.0</td>\n",
       "    </tr>\n",
       "    <tr>\n",
       "      <th>1</th>\n",
       "      <td>Dian</td>\n",
       "      <td>12036564</td>\n",
       "      <td>28</td>\n",
       "      <td>Bandung</td>\n",
       "      <td>2009</td>\n",
       "      <td>345349534.0</td>\n",
       "    </tr>\n",
       "    <tr>\n",
       "      <th>2</th>\n",
       "      <td>Kristin</td>\n",
       "      <td>93465650</td>\n",
       "      <td>25</td>\n",
       "      <td>Jakarta</td>\n",
       "      <td>1992</td>\n",
       "      <td>69565444.0</td>\n",
       "    </tr>\n",
       "    <tr>\n",
       "      <th>4</th>\n",
       "      <td>Andry</td>\n",
       "      <td>7657120</td>\n",
       "      <td>23</td>\n",
       "      <td>Semarang</td>\n",
       "      <td>2000</td>\n",
       "      <td>NaN</td>\n",
       "    </tr>\n",
       "    <tr>\n",
       "      <th>5</th>\n",
       "      <td>Stella</td>\n",
       "      <td>3452343</td>\n",
       "      <td>29</td>\n",
       "      <td>Jakarta</td>\n",
       "      <td>2005</td>\n",
       "      <td>NaN</td>\n",
       "    </tr>\n",
       "  </tbody>\n",
       "</table>\n",
       "</div>"
      ],
      "text/plain": [
       "     staff       debt  age      city  year     salaries\n",
       "0    Brian  100059540   20   Jakarta  2010  335434050.0\n",
       "1     Dian   12036564   28   Bandung  2009  345349534.0\n",
       "2  Kristin   93465650   25   Jakarta  1992   69565444.0\n",
       "4    Andry    7657120   23  Semarang  2000          NaN\n",
       "5   Stella    3452343   29   Jakarta  2005          NaN"
      ]
     },
     "execution_count": 106,
     "metadata": {},
     "output_type": "execute_result"
    }
   ],
   "source": [
    "#add salaries variable into to the existing dataframe\n",
    "# the new column named salary\n",
    "\n",
    "salaries = [335434050, 345349534, 69565444, 50358545]\n",
    "df2['salaries'] = pd.Series(salaries)\n",
    "df2\n"
   ]
  },
  {
   "cell_type": "code",
   "execution_count": null,
   "metadata": {},
   "outputs": [],
   "source": [
    "#create new column named total_salary \n",
    "#calculates total_salary by multiplying age * salary\n",
    "\n",
    "\n"
   ]
  },
  {
   "cell_type": "code",
   "execution_count": null,
   "metadata": {},
   "outputs": [],
   "source": [
    "#show only staff, age and total_salary for all staff\n",
    "\n",
    "\n"
   ]
  },
  {
   "cell_type": "code",
   "execution_count": null,
   "metadata": {},
   "outputs": [],
   "source": [
    "#select staff who is located in jakarta and year between 1990 and 2019\n",
    "\n",
    "\n"
   ]
  },
  {
   "cell_type": "code",
   "execution_count": null,
   "metadata": {},
   "outputs": [],
   "source": []
  }
 ],
 "metadata": {
  "kernelspec": {
   "display_name": "Python 3",
   "language": "python",
   "name": "python3"
  },
  "language_info": {
   "codemirror_mode": {
    "name": "ipython",
    "version": 3
   },
   "file_extension": ".py",
   "mimetype": "text/x-python",
   "name": "python",
   "nbconvert_exporter": "python",
   "pygments_lexer": "ipython3",
   "version": "3.6.4"
  }
 },
 "nbformat": 4,
 "nbformat_minor": 2
}
