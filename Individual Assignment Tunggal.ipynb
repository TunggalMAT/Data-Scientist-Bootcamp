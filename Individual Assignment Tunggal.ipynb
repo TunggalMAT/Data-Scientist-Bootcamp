{
 "cells": [
  {
   "cell_type": "markdown",
   "metadata": {},
   "source": [
    "# Read Data Set"
   ]
  },
  {
   "cell_type": "code",
   "execution_count": 132,
   "metadata": {
    "scrolled": true
   },
   "outputs": [
    {
     "data": {
      "text/html": [
       "<div>\n",
       "<style scoped>\n",
       "    .dataframe tbody tr th:only-of-type {\n",
       "        vertical-align: middle;\n",
       "    }\n",
       "\n",
       "    .dataframe tbody tr th {\n",
       "        vertical-align: top;\n",
       "    }\n",
       "\n",
       "    .dataframe thead th {\n",
       "        text-align: right;\n",
       "    }\n",
       "</style>\n",
       "<table border=\"1\" class=\"dataframe\">\n",
       "  <thead>\n",
       "    <tr style=\"text-align: right;\">\n",
       "      <th></th>\n",
       "      <th>movie_ID</th>\n",
       "      <th>movie_title</th>\n",
       "      <th>duration</th>\n",
       "      <th>color</th>\n",
       "      <th>title_year</th>\n",
       "      <th>country</th>\n",
       "      <th>language</th>\n",
       "      <th>content_rating</th>\n",
       "      <th>budget_USD</th>\n",
       "      <th>gross_USD</th>\n",
       "      <th>...</th>\n",
       "      <th>actor_3_facebook?</th>\n",
       "      <th>actor_3_facebook_likes</th>\n",
       "      <th>cast_total_facebook_likes</th>\n",
       "      <th>movie_facebook?</th>\n",
       "      <th>movie_facebook_likes;</th>\n",
       "      <th>facenumber_in_poster</th>\n",
       "      <th>num_voted_users</th>\n",
       "      <th>num_user_for_reviews</th>\n",
       "      <th>imdb_score</th>\n",
       "      <th>imdb_top_250</th>\n",
       "    </tr>\n",
       "  </thead>\n",
       "  <tbody>\n",
       "    <tr>\n",
       "      <th>3778</th>\n",
       "      <td>3779</td>\n",
       "      <td>Battle of the Year</td>\n",
       "      <td>110</td>\n",
       "      <td>1</td>\n",
       "      <td>2013</td>\n",
       "      <td>USA</td>\n",
       "      <td>English</td>\n",
       "      <td>PG-13</td>\n",
       "      <td>20000000</td>\n",
       "      <td>8888355</td>\n",
       "      <td>...</td>\n",
       "      <td>1</td>\n",
       "      <td>826</td>\n",
       "      <td>3177</td>\n",
       "      <td>0</td>\n",
       "      <td>0</td>\n",
       "      <td>19</td>\n",
       "      <td>7894</td>\n",
       "      <td>25</td>\n",
       "      <td>5.0</td>\n",
       "      <td>0</td>\n",
       "    </tr>\n",
       "    <tr>\n",
       "      <th>3779</th>\n",
       "      <td>3780</td>\n",
       "      <td>The Master</td>\n",
       "      <td>144</td>\n",
       "      <td>1</td>\n",
       "      <td>2012</td>\n",
       "      <td>USA</td>\n",
       "      <td>English</td>\n",
       "      <td>R</td>\n",
       "      <td>32000000</td>\n",
       "      <td>16377274</td>\n",
       "      <td>...</td>\n",
       "      <td>1</td>\n",
       "      <td>15</td>\n",
       "      <td>427</td>\n",
       "      <td>1</td>\n",
       "      <td>27000</td>\n",
       "      <td>31</td>\n",
       "      <td>105144</td>\n",
       "      <td>405</td>\n",
       "      <td>7.1</td>\n",
       "      <td>0</td>\n",
       "    </tr>\n",
       "    <tr>\n",
       "      <th>3780</th>\n",
       "      <td>3781</td>\n",
       "      <td>500 Days of Summer</td>\n",
       "      <td>95</td>\n",
       "      <td>1</td>\n",
       "      <td>2009</td>\n",
       "      <td>USA</td>\n",
       "      <td>English</td>\n",
       "      <td>PG-13</td>\n",
       "      <td>7500000</td>\n",
       "      <td>32391374</td>\n",
       "      <td>...</td>\n",
       "      <td>1</td>\n",
       "      <td>11000</td>\n",
       "      <td>54075</td>\n",
       "      <td>1</td>\n",
       "      <td>40000</td>\n",
       "      <td>43</td>\n",
       "      <td>376600</td>\n",
       "      <td>494</td>\n",
       "      <td>7.7</td>\n",
       "      <td>0</td>\n",
       "    </tr>\n",
       "  </tbody>\n",
       "</table>\n",
       "<p>3 rows × 36 columns</p>\n",
       "</div>"
      ],
      "text/plain": [
       "      movie_ID         movie_title  duration  color  title_year country  \\\n",
       "3778      3779  Battle of the Year       110      1        2013     USA   \n",
       "3779      3780          The Master       144      1        2012     USA   \n",
       "3780      3781  500 Days of Summer        95      1        2009     USA   \n",
       "\n",
       "     language content_rating  budget_USD  gross_USD      ...       \\\n",
       "3778  English          PG-13    20000000    8888355      ...        \n",
       "3779  English              R    32000000   16377274      ...        \n",
       "3780  English          PG-13     7500000   32391374      ...        \n",
       "\n",
       "      actor_3_facebook?  actor_3_facebook_likes cast_total_facebook_likes  \\\n",
       "3778                  1                     826                      3177   \n",
       "3779                  1                      15                       427   \n",
       "3780                  1                   11000                     54075   \n",
       "\n",
       "     movie_facebook?  movie_facebook_likes;  facenumber_in_poster  \\\n",
       "3778               0                      0                    19   \n",
       "3779               1                  27000                    31   \n",
       "3780               1                  40000                    43   \n",
       "\n",
       "     num_voted_users  num_user_for_reviews  imdb_score  imdb_top_250  \n",
       "3778            7894                    25         5.0             0  \n",
       "3779          105144                   405         7.1             0  \n",
       "3780          376600                   494         7.7             0  \n",
       "\n",
       "[3 rows x 36 columns]"
      ]
     },
     "execution_count": 132,
     "metadata": {},
     "output_type": "execute_result"
    }
   ],
   "source": [
    "import pandas as pd\n",
    "imdb = pd.read_csv(\"IMDB-database-update.csv\", encoding = \"ISO-8859-1\") #encoding=\"latin1\"\n",
    "imdb.tail(3)"
   ]
  },
  {
   "cell_type": "markdown",
   "metadata": {},
   "source": [
    "# 1. How many rows and columns reflected on dataset file IMDB-database-update.csv?"
   ]
  },
  {
   "cell_type": "code",
   "execution_count": 133,
   "metadata": {
    "scrolled": true
   },
   "outputs": [
    {
     "data": {
      "text/plain": [
       "(3781, 36)"
      ]
     },
     "execution_count": 133,
     "metadata": {},
     "output_type": "execute_result"
    }
   ],
   "source": [
    "imdb.shape"
   ]
  },
  {
   "cell_type": "markdown",
   "metadata": {},
   "source": [
    "# 2. What are the top 3 movies with highest nett profit in 2013?"
   ]
  },
  {
   "cell_type": "code",
   "execution_count": 104,
   "metadata": {},
   "outputs": [
    {
     "data": {
      "text/html": [
       "<div>\n",
       "<style scoped>\n",
       "    .dataframe tbody tr th:only-of-type {\n",
       "        vertical-align: middle;\n",
       "    }\n",
       "\n",
       "    .dataframe tbody tr th {\n",
       "        vertical-align: top;\n",
       "    }\n",
       "\n",
       "    .dataframe thead th {\n",
       "        text-align: right;\n",
       "    }\n",
       "</style>\n",
       "<table border=\"1\" class=\"dataframe\">\n",
       "  <thead>\n",
       "    <tr style=\"text-align: right;\">\n",
       "      <th></th>\n",
       "      <th>movie_ID</th>\n",
       "      <th>movie_title</th>\n",
       "      <th>duration</th>\n",
       "      <th>color</th>\n",
       "      <th>title_year</th>\n",
       "      <th>country</th>\n",
       "      <th>language</th>\n",
       "      <th>content_rating</th>\n",
       "      <th>budget_USD</th>\n",
       "      <th>gross_USD</th>\n",
       "      <th>...</th>\n",
       "      <th>actor_3_facebook?</th>\n",
       "      <th>actor_3_facebook_likes</th>\n",
       "      <th>cast_total_facebook_likes</th>\n",
       "      <th>movie_facebook?</th>\n",
       "      <th>movie_facebook_likes;</th>\n",
       "      <th>facenumber_in_poster</th>\n",
       "      <th>num_voted_users</th>\n",
       "      <th>num_user_for_reviews</th>\n",
       "      <th>imdb_score</th>\n",
       "      <th>imdb_top_250</th>\n",
       "    </tr>\n",
       "  </thead>\n",
       "  <tbody>\n",
       "    <tr>\n",
       "      <th>1614</th>\n",
       "      <td>1615</td>\n",
       "      <td>The Hunger Games: Catching Fire</td>\n",
       "      <td>146</td>\n",
       "      <td>1</td>\n",
       "      <td>2013</td>\n",
       "      <td>USA</td>\n",
       "      <td>English</td>\n",
       "      <td>PG-13</td>\n",
       "      <td>130000000</td>\n",
       "      <td>424645577</td>\n",
       "      <td>...</td>\n",
       "      <td>1</td>\n",
       "      <td>523</td>\n",
       "      <td>49355</td>\n",
       "      <td>1</td>\n",
       "      <td>82000</td>\n",
       "      <td>1</td>\n",
       "      <td>498397</td>\n",
       "      <td>706</td>\n",
       "      <td>7.6</td>\n",
       "      <td>0</td>\n",
       "    </tr>\n",
       "    <tr>\n",
       "      <th>236</th>\n",
       "      <td>237</td>\n",
       "      <td>Despicable Me 2</td>\n",
       "      <td>98</td>\n",
       "      <td>1</td>\n",
       "      <td>2013</td>\n",
       "      <td>USA</td>\n",
       "      <td>English</td>\n",
       "      <td>PG</td>\n",
       "      <td>76000000</td>\n",
       "      <td>368049635</td>\n",
       "      <td>...</td>\n",
       "      <td>1</td>\n",
       "      <td>1000</td>\n",
       "      <td>11905</td>\n",
       "      <td>1</td>\n",
       "      <td>56000</td>\n",
       "      <td>0</td>\n",
       "      <td>286877</td>\n",
       "      <td>284</td>\n",
       "      <td>7.5</td>\n",
       "      <td>0</td>\n",
       "    </tr>\n",
       "    <tr>\n",
       "      <th>57</th>\n",
       "      <td>58</td>\n",
       "      <td>Frozen</td>\n",
       "      <td>102</td>\n",
       "      <td>1</td>\n",
       "      <td>2013</td>\n",
       "      <td>USA</td>\n",
       "      <td>English</td>\n",
       "      <td>PG</td>\n",
       "      <td>150000000</td>\n",
       "      <td>400736600</td>\n",
       "      <td>...</td>\n",
       "      <td>1</td>\n",
       "      <td>490</td>\n",
       "      <td>2582</td>\n",
       "      <td>1</td>\n",
       "      <td>58000</td>\n",
       "      <td>0</td>\n",
       "      <td>421658</td>\n",
       "      <td>904</td>\n",
       "      <td>7.6</td>\n",
       "      <td>0</td>\n",
       "    </tr>\n",
       "  </tbody>\n",
       "</table>\n",
       "<p>3 rows × 32 columns</p>\n",
       "</div>"
      ],
      "text/plain": [
       "      movie_ID                      movie_title  duration  color  title_year  \\\n",
       "1614      1615  The Hunger Games: Catching Fire       146      1        2013   \n",
       "236        237                  Despicable Me 2        98      1        2013   \n",
       "57          58                           Frozen       102      1        2013   \n",
       "\n",
       "     country language content_rating  budget_USD  gross_USD      ...       \\\n",
       "1614     USA  English          PG-13   130000000  424645577      ...        \n",
       "236      USA  English             PG    76000000  368049635      ...        \n",
       "57       USA  English             PG   150000000  400736600      ...        \n",
       "\n",
       "      actor_3_facebook?  actor_3_facebook_likes cast_total_facebook_likes  \\\n",
       "1614                  1                     523                     49355   \n",
       "236                   1                    1000                     11905   \n",
       "57                    1                     490                      2582   \n",
       "\n",
       "      movie_facebook?  movie_facebook_likes; facenumber_in_poster  \\\n",
       "1614                1                  82000                    1   \n",
       "236                 1                  56000                    0   \n",
       "57                  1                  58000                    0   \n",
       "\n",
       "      num_voted_users  num_user_for_reviews imdb_score  imdb_top_250  \n",
       "1614           498397                   706        7.6             0  \n",
       "236            286877                   284        7.5             0  \n",
       "57             421658                   904        7.6             0  \n",
       "\n",
       "[3 rows x 32 columns]"
      ]
     },
     "execution_count": 104,
     "metadata": {},
     "output_type": "execute_result"
    }
   ],
   "source": [
    "movie_2013 = imdb[imdb.title_year == 2013]\n",
    "net_sort = movie_2013.sort_values('net_USD', ascending = False)\n",
    "net_sort.head(3)"
   ]
  },
  {
   "cell_type": "markdown",
   "metadata": {},
   "source": [
    "# 3. What are the top 3 movies with highest gross profit in 2009?"
   ]
  },
  {
   "cell_type": "code",
   "execution_count": 105,
   "metadata": {
    "scrolled": true
   },
   "outputs": [
    {
     "data": {
      "text/html": [
       "<div>\n",
       "<style scoped>\n",
       "    .dataframe tbody tr th:only-of-type {\n",
       "        vertical-align: middle;\n",
       "    }\n",
       "\n",
       "    .dataframe tbody tr th {\n",
       "        vertical-align: top;\n",
       "    }\n",
       "\n",
       "    .dataframe thead th {\n",
       "        text-align: right;\n",
       "    }\n",
       "</style>\n",
       "<table border=\"1\" class=\"dataframe\">\n",
       "  <thead>\n",
       "    <tr style=\"text-align: right;\">\n",
       "      <th></th>\n",
       "      <th>movie_ID</th>\n",
       "      <th>movie_title</th>\n",
       "      <th>duration</th>\n",
       "      <th>color</th>\n",
       "      <th>title_year</th>\n",
       "      <th>country</th>\n",
       "      <th>language</th>\n",
       "      <th>content_rating</th>\n",
       "      <th>budget_USD</th>\n",
       "      <th>gross_USD</th>\n",
       "      <th>...</th>\n",
       "      <th>actor_3_facebook?</th>\n",
       "      <th>actor_3_facebook_likes</th>\n",
       "      <th>cast_total_facebook_likes</th>\n",
       "      <th>movie_facebook?</th>\n",
       "      <th>movie_facebook_likes;</th>\n",
       "      <th>facenumber_in_poster</th>\n",
       "      <th>num_voted_users</th>\n",
       "      <th>num_user_for_reviews</th>\n",
       "      <th>imdb_score</th>\n",
       "      <th>imdb_top_250</th>\n",
       "    </tr>\n",
       "  </thead>\n",
       "  <tbody>\n",
       "    <tr>\n",
       "      <th>0</th>\n",
       "      <td>1</td>\n",
       "      <td>Avatar</td>\n",
       "      <td>178</td>\n",
       "      <td>1</td>\n",
       "      <td>2009</td>\n",
       "      <td>USA</td>\n",
       "      <td>English</td>\n",
       "      <td>PG-13</td>\n",
       "      <td>237000000</td>\n",
       "      <td>760505847</td>\n",
       "      <td>...</td>\n",
       "      <td>1</td>\n",
       "      <td>855</td>\n",
       "      <td>4834</td>\n",
       "      <td>1</td>\n",
       "      <td>33000</td>\n",
       "      <td>0</td>\n",
       "      <td>886204</td>\n",
       "      <td>3054</td>\n",
       "      <td>7.9</td>\n",
       "      <td>0</td>\n",
       "    </tr>\n",
       "    <tr>\n",
       "      <th>19</th>\n",
       "      <td>20</td>\n",
       "      <td>Transformers: Revenge of the Fallen</td>\n",
       "      <td>150</td>\n",
       "      <td>1</td>\n",
       "      <td>2009</td>\n",
       "      <td>USA</td>\n",
       "      <td>English</td>\n",
       "      <td>PG-13</td>\n",
       "      <td>200000000</td>\n",
       "      <td>402076689</td>\n",
       "      <td>...</td>\n",
       "      <td>1</td>\n",
       "      <td>464</td>\n",
       "      <td>3218</td>\n",
       "      <td>0</td>\n",
       "      <td>0</td>\n",
       "      <td>0</td>\n",
       "      <td>323207</td>\n",
       "      <td>1439</td>\n",
       "      <td>6.0</td>\n",
       "      <td>0</td>\n",
       "    </tr>\n",
       "    <tr>\n",
       "      <th>3094</th>\n",
       "      <td>3095</td>\n",
       "      <td>Harry Potter and the Half-Blood Prince</td>\n",
       "      <td>153</td>\n",
       "      <td>1</td>\n",
       "      <td>2009</td>\n",
       "      <td>UK</td>\n",
       "      <td>English</td>\n",
       "      <td>PG</td>\n",
       "      <td>250000000</td>\n",
       "      <td>301956980</td>\n",
       "      <td>...</td>\n",
       "      <td>1</td>\n",
       "      <td>10000</td>\n",
       "      <td>58753</td>\n",
       "      <td>1</td>\n",
       "      <td>10000</td>\n",
       "      <td>3</td>\n",
       "      <td>321795</td>\n",
       "      <td>973</td>\n",
       "      <td>7.5</td>\n",
       "      <td>0</td>\n",
       "    </tr>\n",
       "  </tbody>\n",
       "</table>\n",
       "<p>3 rows × 32 columns</p>\n",
       "</div>"
      ],
      "text/plain": [
       "      movie_ID                             movie_title  duration  color  \\\n",
       "0            1                                  Avatar       178      1   \n",
       "19          20     Transformers: Revenge of the Fallen       150      1   \n",
       "3094      3095  Harry Potter and the Half-Blood Prince       153      1   \n",
       "\n",
       "      title_year country language content_rating  budget_USD  gross_USD  \\\n",
       "0           2009     USA  English          PG-13   237000000  760505847   \n",
       "19          2009     USA  English          PG-13   200000000  402076689   \n",
       "3094        2009      UK  English             PG   250000000  301956980   \n",
       "\n",
       "          ...       actor_3_facebook?  actor_3_facebook_likes  \\\n",
       "0         ...                       1                     855   \n",
       "19        ...                       1                     464   \n",
       "3094      ...                       1                   10000   \n",
       "\n",
       "     cast_total_facebook_likes  movie_facebook?  movie_facebook_likes;  \\\n",
       "0                         4834                1                  33000   \n",
       "19                        3218                0                      0   \n",
       "3094                     58753                1                  10000   \n",
       "\n",
       "     facenumber_in_poster  num_voted_users  num_user_for_reviews imdb_score  \\\n",
       "0                       0           886204                  3054        7.9   \n",
       "19                      0           323207                  1439        6.0   \n",
       "3094                    3           321795                   973        7.5   \n",
       "\n",
       "      imdb_top_250  \n",
       "0                0  \n",
       "19               0  \n",
       "3094             0  \n",
       "\n",
       "[3 rows x 32 columns]"
      ]
     },
     "execution_count": 105,
     "metadata": {},
     "output_type": "execute_result"
    }
   ],
   "source": [
    "movie_2019 = imdb[imdb.title_year == 2009]\n",
    "gross_sort = movie_2019.sort_values('gross_USD', ascending = False)\n",
    "gross_sort.head(3)"
   ]
  },
  {
   "cell_type": "markdown",
   "metadata": {},
   "source": [
    "# 4. How many non-english movies are in the dataset?"
   ]
  },
  {
   "cell_type": "code",
   "execution_count": 134,
   "metadata": {},
   "outputs": [
    {
     "name": "stdout",
     "output_type": "stream",
     "text": [
      "153\n"
     ]
    }
   ],
   "source": [
    "movie_non_english = imdb[imdb.language != 'English']\n",
    "total = movie_non_english['movie_ID'].count()\n",
    "print (total)"
   ]
  },
  {
   "cell_type": "markdown",
   "metadata": {},
   "source": [
    "# 5. What are the top 3 countries with the highest nett profit in all dataset times?"
   ]
  },
  {
   "cell_type": "code",
   "execution_count": 68,
   "metadata": {},
   "outputs": [
    {
     "name": "stdout",
     "output_type": "stream",
     "text": [
      "language\n",
      "French      33\n",
      "Spanish     23\n",
      "Mandarin    14\n",
      "Name: movie_ID, dtype: int64\n"
     ]
    }
   ],
   "source": [
    "mne_group = movie_non_english.groupby('language')\n",
    "mne_count = mne_group['movie_ID'].count()\n",
    "mne_sort = mne_count.sort_values(ascending=False)\n",
    "print (mne_sort.head(3))"
   ]
  },
  {
   "cell_type": "code",
   "execution_count": 89,
   "metadata": {},
   "outputs": [],
   "source": [
    "#mne_group2 = imdb.groupby('country')\n",
    "#mne_count2 = mne_group2['net_USD'].count()\n",
    "#mne_sort2 = mne_count.sort_values(ascending=False)\n",
    "#print (mne_sort2)"
   ]
  },
  {
   "cell_type": "markdown",
   "metadata": {},
   "source": [
    "# 6. What are the top 3 countries with the highest nett profit in all dataset times?"
   ]
  },
  {
   "cell_type": "code",
   "execution_count": 88,
   "metadata": {},
   "outputs": [
    {
     "name": "stdout",
     "output_type": "stream",
     "text": [
      "country\n",
      "USA          52003933174\n",
      "UK            1531614524\n",
      "Australia      252571616\n",
      "Name: net_USD, dtype: int64\n"
     ]
    }
   ],
   "source": [
    "imdb_group = imdb.groupby('country')\n",
    "imdb_sum = imdb_group['net_USD'].sum()\n",
    "imdb_sort = imdb_sum.sort_values(ascending=False)\n",
    "print(imdb_sort.head(3))"
   ]
  },
  {
   "cell_type": "markdown",
   "metadata": {},
   "source": [
    "# 7. What are the average budget of all movies in dataset in 2013?"
   ]
  },
  {
   "cell_type": "code",
   "execution_count": 123,
   "metadata": {},
   "outputs": [
    {
     "data": {
      "text/plain": [
       "51069610.77439024"
      ]
     },
     "execution_count": 123,
     "metadata": {},
     "output_type": "execute_result"
    }
   ],
   "source": [
    "sum_2013 = movie_2013['budget_USD'].sum()\n",
    "count_2013 = movie_2013['movie_ID'].count()\n",
    "rata_2013 = sum_2013/count_2013\n",
    "rata_2013"
   ]
  },
  {
   "cell_type": "markdown",
   "metadata": {},
   "source": [
    "# 8. What are the average budget of all movies in dataset in 2014?"
   ]
  },
  {
   "cell_type": "code",
   "execution_count": 124,
   "metadata": {},
   "outputs": [
    {
     "data": {
      "text/plain": [
       "49919006.62251656"
      ]
     },
     "execution_count": 124,
     "metadata": {},
     "output_type": "execute_result"
    }
   ],
   "source": [
    "movie_2014 = imdb[imdb.title_year == 2014]\n",
    "sum_2014 = movie_2014['budget_USD'].sum()\n",
    "count_2014 = movie_2014['movie_ID'].count()\n",
    "rata_2014 = sum_2014/count_2014\n",
    "rata_2014"
   ]
  },
  {
   "cell_type": "markdown",
   "metadata": {},
   "source": [
    "# 9. Which one is higher, average budget of all movies in dataset in 2014 or 2013?"
   ]
  },
  {
   "cell_type": "code",
   "execution_count": 118,
   "metadata": {},
   "outputs": [
    {
     "name": "stdout",
     "output_type": "stream",
     "text": [
      "2013\n"
     ]
    }
   ],
   "source": [
    "if (rata_2013 > rata_2014) :\n",
    "    print(\"2013\")\n",
    "else :\n",
    "    print(\"2014\")"
   ]
  },
  {
   "cell_type": "markdown",
   "metadata": {},
   "source": [
    "# 10. What movie that resulted highest nett profit of all dataset times? How much did the movie make?"
   ]
  },
  {
   "cell_type": "code",
   "execution_count": 136,
   "metadata": {},
   "outputs": [
    {
     "data": {
      "text/html": [
       "<div>\n",
       "<style scoped>\n",
       "    .dataframe tbody tr th:only-of-type {\n",
       "        vertical-align: middle;\n",
       "    }\n",
       "\n",
       "    .dataframe tbody tr th {\n",
       "        vertical-align: top;\n",
       "    }\n",
       "\n",
       "    .dataframe thead th {\n",
       "        text-align: right;\n",
       "    }\n",
       "</style>\n",
       "<table border=\"1\" class=\"dataframe\">\n",
       "  <thead>\n",
       "    <tr style=\"text-align: right;\">\n",
       "      <th></th>\n",
       "      <th>movie_ID</th>\n",
       "      <th>movie_title</th>\n",
       "      <th>duration</th>\n",
       "      <th>color</th>\n",
       "      <th>title_year</th>\n",
       "      <th>country</th>\n",
       "      <th>language</th>\n",
       "      <th>content_rating</th>\n",
       "      <th>budget_USD</th>\n",
       "      <th>gross_USD</th>\n",
       "      <th>...</th>\n",
       "      <th>actor_3_facebook?</th>\n",
       "      <th>actor_3_facebook_likes</th>\n",
       "      <th>cast_total_facebook_likes</th>\n",
       "      <th>movie_facebook?</th>\n",
       "      <th>movie_facebook_likes;</th>\n",
       "      <th>facenumber_in_poster</th>\n",
       "      <th>num_voted_users</th>\n",
       "      <th>num_user_for_reviews</th>\n",
       "      <th>imdb_score</th>\n",
       "      <th>imdb_top_250</th>\n",
       "    </tr>\n",
       "  </thead>\n",
       "  <tbody>\n",
       "    <tr>\n",
       "      <th>0</th>\n",
       "      <td>1</td>\n",
       "      <td>Avatar</td>\n",
       "      <td>178</td>\n",
       "      <td>1</td>\n",
       "      <td>2009</td>\n",
       "      <td>USA</td>\n",
       "      <td>English</td>\n",
       "      <td>PG-13</td>\n",
       "      <td>237000000</td>\n",
       "      <td>760505847</td>\n",
       "      <td>...</td>\n",
       "      <td>1</td>\n",
       "      <td>855</td>\n",
       "      <td>4834</td>\n",
       "      <td>1</td>\n",
       "      <td>33000</td>\n",
       "      <td>0</td>\n",
       "      <td>886204</td>\n",
       "      <td>3054</td>\n",
       "      <td>7.9</td>\n",
       "      <td>0</td>\n",
       "    </tr>\n",
       "  </tbody>\n",
       "</table>\n",
       "<p>1 rows × 36 columns</p>\n",
       "</div>"
      ],
      "text/plain": [
       "   movie_ID movie_title  duration  color  title_year country language  \\\n",
       "0         1      Avatar       178      1        2009     USA  English   \n",
       "\n",
       "  content_rating  budget_USD  gross_USD      ...       actor_3_facebook?  \\\n",
       "0          PG-13   237000000  760505847      ...                       1   \n",
       "\n",
       "   actor_3_facebook_likes cast_total_facebook_likes movie_facebook?  \\\n",
       "0                     855                      4834               1   \n",
       "\n",
       "   movie_facebook_likes;  facenumber_in_poster num_voted_users  \\\n",
       "0                  33000                     0          886204   \n",
       "\n",
       "   num_user_for_reviews  imdb_score  imdb_top_250  \n",
       "0                  3054         7.9             0  \n",
       "\n",
       "[1 rows x 36 columns]"
      ]
     },
     "execution_count": 136,
     "metadata": {},
     "output_type": "execute_result"
    }
   ],
   "source": [
    "best = imdb.loc[(imdb.title_year >= 1927)]\n",
    "net_best = best.sort_values('net_USD', ascending = False)\n",
    "net_best.head(1)"
   ]
  }
 ],
 "metadata": {
  "kernelspec": {
   "display_name": "Python 3",
   "language": "python",
   "name": "python3"
  },
  "language_info": {
   "codemirror_mode": {
    "name": "ipython",
    "version": 3
   },
   "file_extension": ".py",
   "mimetype": "text/x-python",
   "name": "python",
   "nbconvert_exporter": "python",
   "pygments_lexer": "ipython3",
   "version": "3.6.4"
  }
 },
 "nbformat": 4,
 "nbformat_minor": 2
}
