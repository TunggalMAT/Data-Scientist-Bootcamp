{
 "cells": [
  {
   "cell_type": "code",
   "execution_count": 20,
   "metadata": {},
   "outputs": [
    {
     "name": "stdout",
     "output_type": "stream",
     "text": [
      "Hello World\n",
      "7\n",
      "13\n"
     ]
    }
   ],
   "source": [
    "print(\"Hello World\")\n",
    "print(2+5)\n",
    "print(6+7)"
   ]
  },
  {
   "cell_type": "code",
   "execution_count": 19,
   "metadata": {},
   "outputs": [
    {
     "name": "stdout",
     "output_type": "stream",
     "text": [
      "7\n",
      "9\n",
      "16\n"
     ]
    }
   ],
   "source": [
    "apel = 7\n",
    "jeruk = 9\n",
    "print(apel)\n",
    "print(jeruk)\n",
    "print(apel + jeruk)"
   ]
  },
  {
   "cell_type": "code",
   "execution_count": 18,
   "metadata": {},
   "outputs": [
    {
     "name": "stdout",
     "output_type": "stream",
     "text": [
      "12\n",
      "8\n",
      "-10\n",
      "20\n",
      "100\n",
      "5.0\n",
      "5\n",
      "0\n"
     ]
    }
   ],
   "source": [
    "x = 10\n",
    "y = 2\n",
    "print(x + y)\n",
    "print(x - y)\n",
    "print(-x)\n",
    "print(x * y)\n",
    "print(x ** y)\n",
    "print(x / y)\n",
    "print(x // y)\n",
    "print(x % y) "
   ]
  },
  {
   "cell_type": "code",
   "execution_count": 16,
   "metadata": {},
   "outputs": [
    {
     "name": "stdout",
     "output_type": "stream",
     "text": [
      "True\n",
      "<class 'bool'>\n",
      "<class 'str'>\n",
      "<class 'bool'>\n",
      "True\n",
      "False\n",
      "True\n",
      "False\n",
      "<class 'bool'>\n"
     ]
    }
   ],
   "source": [
    "print(True)\n",
    "print(type(True))\n",
    "print(type(\"True\"))\n",
    "print(type(False))\n",
    "print(10 == 10)\n",
    "print(5 == 6)\n",
    "t = True\n",
    "f = False\n",
    "print(t or f)\n",
    "print(t and f)\n",
    "print(type(t))"
   ]
  },
  {
   "cell_type": "code",
   "execution_count": 21,
   "metadata": {},
   "outputs": [
    {
     "name": "stdout",
     "output_type": "stream",
     "text": [
      "[2, 3, 4, 5, 6, 7]\n"
     ]
    }
   ],
   "source": [
    "Fam = [2,3,4,5,6,7]\n",
    "print(Fam)\n",
    "type(Fam)\n",
    "# List inside list\n",
    "Data = [[\"Bob\",160],[\"Charlie\",150],[\"Brian\",140.5]]"
   ]
  },
  {
   "cell_type": "code",
   "execution_count": 22,
   "metadata": {},
   "outputs": [
    {
     "name": "stdout",
     "output_type": "stream",
     "text": [
      "[2, 3, 4, 5, 6, 7]\n",
      "7\n",
      "2\n",
      "6\n",
      "[['Bob', 160], ['Charlie', 150], ['Brian', 140.5]]\n",
      "Bob\n",
      "160\n"
     ]
    }
   ],
   "source": [
    "# Built-In\n",
    "print(Fam)\n",
    "print(max(Fam))\n",
    "print(min(Fam))\n",
    "print(len(Fam))\n",
    "# User Defined\n",
    "print(Data)\n",
    "x,y = max(Data, key=lambda a: a[1])\n",
    "print(x)\n",
    "print(y)"
   ]
  },
  {
   "cell_type": "code",
   "execution_count": 12,
   "metadata": {},
   "outputs": [
    {
     "name": "stdout",
     "output_type": "stream",
     "text": [
      "hello world\n",
      "<class 'str'>\n",
      "Hello world\n",
      "HELLO WORLD\n",
      "hello world\n",
      "hello world\n"
     ]
    }
   ],
   "source": [
    "name = \"hello world\"\n",
    "print(name)\n",
    "print(type(name))\n",
    "# “hello world” type is string\n",
    "# Some Methods specifically\n",
    "# associated with string type object are\n",
    "print(name.capitalize())\n",
    "print(name.upper())\n",
    "print(name.lower())\n",
    "print(name.strip())"
   ]
  },
  {
   "cell_type": "code",
   "execution_count": 24,
   "metadata": {},
   "outputs": [
    {
     "name": "stdout",
     "output_type": "stream",
     "text": [
      "cat\n",
      "dog\n",
      "monkey\n",
      "[0, 1, 4, 9, 16]\n"
     ]
    },
    {
     "ename": "NameError",
     "evalue": "name 'label_height' is not defined",
     "output_type": "error",
     "traceback": [
      "\u001b[1;31m---------------------------------------------------------------------------\u001b[0m",
      "\u001b[1;31mNameError\u001b[0m                                 Traceback (most recent call last)",
      "\u001b[1;32m<ipython-input-24-aa7e3c427bce>\u001b[0m in \u001b[0;36m<module>\u001b[1;34m\u001b[0m\n\u001b[0;32m      6\u001b[0m \u001b[0mprint\u001b[0m\u001b[1;33m(\u001b[0m\u001b[0msquares\u001b[0m\u001b[1;33m)\u001b[0m\u001b[1;33m\u001b[0m\u001b[1;33m\u001b[0m\u001b[0m\n\u001b[0;32m      7\u001b[0m \u001b[1;31m#Map\u001b[0m\u001b[1;33m\u001b[0m\u001b[1;33m\u001b[0m\u001b[1;33m\u001b[0m\u001b[0m\n\u001b[1;32m----> 8\u001b[1;33m \u001b[0mprint\u001b[0m\u001b[1;33m(\u001b[0m\u001b[0mlist\u001b[0m\u001b[1;33m(\u001b[0m\u001b[0mmap\u001b[0m\u001b[1;33m(\u001b[0m\u001b[0mlabel_height\u001b[0m\u001b[1;33m,\u001b[0m\u001b[0mFam\u001b[0m\u001b[1;33m)\u001b[0m\u001b[1;33m)\u001b[0m\u001b[1;33m)\u001b[0m\u001b[1;33m\u001b[0m\u001b[1;33m\u001b[0m\u001b[0m\n\u001b[0m\u001b[0;32m      9\u001b[0m \u001b[0mprint\u001b[0m\u001b[1;33m(\u001b[0m\u001b[0mlist\u001b[0m\u001b[1;33m(\u001b[0m\u001b[0mmap\u001b[0m\u001b[1;33m(\u001b[0m\u001b[0mlabel_height\u001b[0m\u001b[1;33m,\u001b[0m\u001b[0mheight_list\u001b[0m\u001b[1;33m)\u001b[0m\u001b[1;33m)\u001b[0m\u001b[1;33m)\u001b[0m\u001b[1;33m\u001b[0m\u001b[1;33m\u001b[0m\u001b[0m\n",
      "\u001b[1;31mNameError\u001b[0m: name 'label_height' is not defined"
     ]
    }
   ],
   "source": [
    "animals = ['cat', 'dog', 'monkey']\n",
    "for animal in animals:\n",
    "    print(animal)\n",
    "nums = [0, 1, 2, 3, 4]\n",
    "squares = [x ** 2 for x in nums]\n",
    "print(squares)\n",
    "#Map\n",
    "print(list(map(label_height,Fam)))\n",
    "print(list(map(label_height,height_list)))"
   ]
  },
  {
   "cell_type": "code",
   "execution_count": null,
   "metadata": {},
   "outputs": [],
   "source": []
  },
  {
   "cell_type": "code",
   "execution_count": 29,
   "metadata": {},
   "outputs": [
    {
     "name": "stdout",
     "output_type": "stream",
     "text": [
      "<class 'list'>\n",
      "[160.  150.  140.5]\n",
      "<class 'numpy.ndarray'>\n"
     ]
    }
   ],
   "source": [
    "import numpy as np\n",
    "Data = [[\"Bob\",160],[\"Charlie\",150],[\"Brian\",140.5]]\n",
    "height_list = [row[1] for row in Data]\n",
    "print(type(height_list))\n",
    "height_array = np.array(height_list)\n",
    "print(height_array)\n",
    "print(type(height_array))"
   ]
  },
  {
   "cell_type": "code",
   "execution_count": 30,
   "metadata": {},
   "outputs": [
    {
     "name": "stdout",
     "output_type": "stream",
     "text": [
      "berlin\n",
      "{'spain': 'madrid', 'france': 'paris', 'germany': 'berlin', 'norway': 'oslo'}\n",
      "dict_keys(['spain', 'france', 'germany', 'norway'])\n",
      "dict_values(['madrid', 'paris', 'berlin', 'oslo'])\n"
     ]
    }
   ],
   "source": [
    "countries = ['spain', 'france', 'germany', 'norway']\n",
    "capitals = ['madrid', 'paris', 'berlin', 'oslo']\n",
    "ind_ger = countries.index('germany')\n",
    "print(capitals[ind_ger])\n",
    "europe = {'spain':'madrid', 'france':'paris',\n",
    "'germany':'berlin', 'norway':'oslo'}\n",
    "type(europe)\n",
    "print(europe)\n",
    "print(europe.keys())\n",
    "print(europe.values())"
   ]
  },
  {
   "cell_type": "code",
   "execution_count": 34,
   "metadata": {},
   "outputs": [
    {
     "name": "stdout",
     "output_type": "stream",
     "text": [
      "<class 'pandas.core.frame.DataFrame'>\n",
      "  ctrcode        country  drives_right  cars_per_cap\n",
      "0      US  United States          True           809\n",
      "1     AUS      Australia         False           731\n",
      "2     JPN          Japan         False           588\n",
      "3      IN          India         False            18\n",
      "4     RUS         Russia          True           200\n",
      "5     MOR        Morocco          True            70\n",
      "6      EG          Egypt          True            45\n"
     ]
    }
   ],
   "source": [
    "import pandas as pd\n",
    "\n",
    "code = ['US', 'AUS', 'JPN', 'IN', 'RUS', 'MOR', 'EG']\n",
    "names = ['United States', 'Australia', 'Japan', 'India','Russia','Morocco', 'Egypt']\n",
    "dr = [True, False, False, False, True, True, True]\n",
    "cpc = [809, 731, 588, 18, 200, 70, 45]\n",
    "# Create dictionary my_dict with three key:value pairs: my_dict\n",
    "my_dict = {'ctrcode':code, 'country':names, 'drives_right':dr,'cars_per_cap':cpc}\n",
    "cars = pd.DataFrame(my_dict)\n",
    "print(type(cars))\n",
    "print(cars)"
   ]
  },
  {
   "cell_type": "code",
   "execution_count": 37,
   "metadata": {},
   "outputs": [
    {
     "name": "stdout",
     "output_type": "stream",
     "text": [
      "Index(['ctrcode', 'country', 'drives_right', 'cars_per_cap'], dtype='object')\n",
      "4\n",
      "7\n",
      "<class 'pandas.core.frame.DataFrame'>\n",
      "RangeIndex: 7 entries, 0 to 6\n",
      "Data columns (total 4 columns):\n",
      "ctrcode         7 non-null object\n",
      "country         7 non-null object\n",
      "drives_right    7 non-null bool\n",
      "cars_per_cap    7 non-null int64\n",
      "dtypes: bool(1), int64(1), object(2)\n",
      "memory usage: 303.0+ bytes\n",
      "(7, 3)\n"
     ]
    },
    {
     "data": {
      "text/html": [
       "<div>\n",
       "<style scoped>\n",
       "    .dataframe tbody tr th:only-of-type {\n",
       "        vertical-align: middle;\n",
       "    }\n",
       "\n",
       "    .dataframe tbody tr th {\n",
       "        vertical-align: top;\n",
       "    }\n",
       "\n",
       "    .dataframe thead th {\n",
       "        text-align: right;\n",
       "    }\n",
       "</style>\n",
       "<table border=\"1\" class=\"dataframe\">\n",
       "  <thead>\n",
       "    <tr style=\"text-align: right;\">\n",
       "      <th></th>\n",
       "      <th>country</th>\n",
       "      <th>drives_right</th>\n",
       "      <th>cars_per_cap</th>\n",
       "    </tr>\n",
       "    <tr>\n",
       "      <th>ctrcode</th>\n",
       "      <th></th>\n",
       "      <th></th>\n",
       "      <th></th>\n",
       "    </tr>\n",
       "  </thead>\n",
       "  <tbody>\n",
       "    <tr>\n",
       "      <th>US</th>\n",
       "      <td>United States</td>\n",
       "      <td>True</td>\n",
       "      <td>809</td>\n",
       "    </tr>\n",
       "    <tr>\n",
       "      <th>AUS</th>\n",
       "      <td>Australia</td>\n",
       "      <td>False</td>\n",
       "      <td>731</td>\n",
       "    </tr>\n",
       "    <tr>\n",
       "      <th>JPN</th>\n",
       "      <td>Japan</td>\n",
       "      <td>False</td>\n",
       "      <td>588</td>\n",
       "    </tr>\n",
       "    <tr>\n",
       "      <th>IN</th>\n",
       "      <td>India</td>\n",
       "      <td>False</td>\n",
       "      <td>18</td>\n",
       "    </tr>\n",
       "    <tr>\n",
       "      <th>RUS</th>\n",
       "      <td>Russia</td>\n",
       "      <td>True</td>\n",
       "      <td>200</td>\n",
       "    </tr>\n",
       "    <tr>\n",
       "      <th>MOR</th>\n",
       "      <td>Morocco</td>\n",
       "      <td>True</td>\n",
       "      <td>70</td>\n",
       "    </tr>\n",
       "    <tr>\n",
       "      <th>EG</th>\n",
       "      <td>Egypt</td>\n",
       "      <td>True</td>\n",
       "      <td>45</td>\n",
       "    </tr>\n",
       "  </tbody>\n",
       "</table>\n",
       "</div>"
      ],
      "text/plain": [
       "               country  drives_right  cars_per_cap\n",
       "ctrcode                                           \n",
       "US       United States          True           809\n",
       "AUS          Australia         False           731\n",
       "JPN              Japan         False           588\n",
       "IN               India         False            18\n",
       "RUS             Russia          True           200\n",
       "MOR            Morocco          True            70\n",
       "EG               Egypt          True            45"
      ]
     },
     "execution_count": 37,
     "metadata": {},
     "output_type": "execute_result"
    }
   ],
   "source": [
    "# Dimension\n",
    "cars.shape\n",
    "print(cars.columns)\n",
    "print(len(cars.columns))\n",
    "print(len(cars))\n",
    "# Brief View\n",
    "cars.head(3)\n",
    "cars.tail(3)\n",
    "# Data type\n",
    "cars.dtypes\n",
    "cars.info()\n",
    "# Summary Statistics\n",
    "cars.describe()\n",
    "# Set DF Column Index\n",
    "cars_id = cars.set_index(\"ctrcode\")\n",
    "print(cars_id.shape)\n",
    "cars_id"
   ]
  },
  {
   "cell_type": "code",
   "execution_count": 4,
   "metadata": {},
   "outputs": [
    {
     "ename": "NameError",
     "evalue": "name 'cars_id' is not defined",
     "output_type": "error",
     "traceback": [
      "\u001b[1;31m---------------------------------------------------------------------------\u001b[0m",
      "\u001b[1;31mNameError\u001b[0m                                 Traceback (most recent call last)",
      "\u001b[1;32m<ipython-input-4-28563f3fe28c>\u001b[0m in \u001b[0;36m<module>\u001b[1;34m\u001b[0m\n\u001b[0;32m      1\u001b[0m \u001b[1;31m#Square brackets. There’s fundamental difference between using single and double bracket.\u001b[0m\u001b[1;33m\u001b[0m\u001b[1;33m\u001b[0m\u001b[1;33m\u001b[0m\u001b[0m\n\u001b[1;32m----> 2\u001b[1;33m \u001b[0mColumn_access\u001b[0m \u001b[1;33m=\u001b[0m \u001b[0mcars_id\u001b[0m\u001b[1;33m[\u001b[0m\u001b[1;34m'country'\u001b[0m\u001b[1;33m]\u001b[0m\u001b[1;33m,\u001b[0m \u001b[0mcars_id\u001b[0m\u001b[1;33m[\u001b[0m\u001b[1;33m[\u001b[0m\u001b[1;34m'country'\u001b[0m\u001b[1;33m]\u001b[0m\u001b[1;33m]\u001b[0m\u001b[1;33m\u001b[0m\u001b[1;33m\u001b[0m\u001b[0m\n\u001b[0m\u001b[0;32m      3\u001b[0m \u001b[0mRow_access\u001b[0m \u001b[1;33m=\u001b[0m \u001b[0mcars_id\u001b[0m\u001b[1;33m[\u001b[0m\u001b[1;36m0\u001b[0m\u001b[1;33m:\u001b[0m\u001b[1;36m3\u001b[0m\u001b[1;33m]\u001b[0m\u001b[1;33m\u001b[0m\u001b[1;33m\u001b[0m\u001b[0m\n\u001b[0;32m      4\u001b[0m \u001b[1;31m#LOC (label based)\u001b[0m\u001b[1;33m\u001b[0m\u001b[1;33m\u001b[0m\u001b[1;33m\u001b[0m\u001b[0m\n\u001b[0;32m      5\u001b[0m \u001b[0mRow_access\u001b[0m \u001b[1;33m=\u001b[0m \u001b[0mcars_id\u001b[0m\u001b[1;33m.\u001b[0m\u001b[0mloc\u001b[0m\u001b[1;33m[\u001b[0m\u001b[1;33m[\u001b[0m\u001b[1;34m'AUS'\u001b[0m\u001b[1;33m,\u001b[0m \u001b[1;34m'EG'\u001b[0m\u001b[1;33m]\u001b[0m\u001b[1;33m]\u001b[0m\u001b[1;33m\u001b[0m\u001b[1;33m\u001b[0m\u001b[0m\n",
      "\u001b[1;31mNameError\u001b[0m: name 'cars_id' is not defined"
     ]
    }
   ],
   "source": [
    "#Square brackets. There’s fundamental difference between using single and double bracket.\n",
    "Column_access = cars_id['country'], cars_id[['country']]\n",
    "Row_access = cars_id[0:3]\n",
    "#LOC (label based)\n",
    "Row_access = cars_id.loc[['AUS', 'EG']]\n",
    "Row_Column_access = cars_id.loc[['RUS', 'MOR'], ['country', 'drives_right']]\n",
    "#iLOC (integer index based)\n",
    "Row_access = cars_id.iloc[[1, 6]]\n",
    "Row_Column_access = cars_id.iloc[[4,5], [1,2]]"
   ]
  },
  {
   "cell_type": "code",
   "execution_count": 43,
   "metadata": {},
   "outputs": [
    {
     "name": "stdout",
     "output_type": "stream",
     "text": [
      "               country  drives_right  cars_per_cap\n",
      "ctrcode                                           \n",
      "US       United States          True           809\n",
      "RUS             Russia          True           200\n",
      "MOR            Morocco          True            70\n",
      "EG               Egypt          True            45\n",
      "           country  drives_right  cars_per_cap\n",
      "ctrcode                                       \n",
      "AUS      Australia         False           731\n"
     ]
    }
   ],
   "source": [
    "print(cars_id[cars_id.drives_right == True])\n",
    "print(cars_id[(cars_id.cars_per_cap > 100) & (cars_id.country == \"Australia\") ])"
   ]
  },
  {
   "cell_type": "code",
   "execution_count": 45,
   "metadata": {},
   "outputs": [
    {
     "data": {
      "text/html": [
       "<div>\n",
       "<style scoped>\n",
       "    .dataframe tbody tr th:only-of-type {\n",
       "        vertical-align: middle;\n",
       "    }\n",
       "\n",
       "    .dataframe tbody tr th {\n",
       "        vertical-align: top;\n",
       "    }\n",
       "\n",
       "    .dataframe thead th {\n",
       "        text-align: right;\n",
       "    }\n",
       "</style>\n",
       "<table border=\"1\" class=\"dataframe\">\n",
       "  <thead>\n",
       "    <tr style=\"text-align: right;\">\n",
       "      <th></th>\n",
       "      <th>country</th>\n",
       "      <th>drives_right</th>\n",
       "      <th>cars_per_cap</th>\n",
       "    </tr>\n",
       "    <tr>\n",
       "      <th>ctrcode</th>\n",
       "      <th></th>\n",
       "      <th></th>\n",
       "      <th></th>\n",
       "    </tr>\n",
       "  </thead>\n",
       "  <tbody>\n",
       "    <tr>\n",
       "      <th>US</th>\n",
       "      <td>United States</td>\n",
       "      <td>True</td>\n",
       "      <td>809</td>\n",
       "    </tr>\n",
       "    <tr>\n",
       "      <th>AUS</th>\n",
       "      <td>Australia</td>\n",
       "      <td>False</td>\n",
       "      <td>731</td>\n",
       "    </tr>\n",
       "    <tr>\n",
       "      <th>JPN</th>\n",
       "      <td>Japan</td>\n",
       "      <td>False</td>\n",
       "      <td>588</td>\n",
       "    </tr>\n",
       "    <tr>\n",
       "      <th>RUS</th>\n",
       "      <td>Russia</td>\n",
       "      <td>True</td>\n",
       "      <td>200</td>\n",
       "    </tr>\n",
       "    <tr>\n",
       "      <th>MOR</th>\n",
       "      <td>Morocco</td>\n",
       "      <td>True</td>\n",
       "      <td>70</td>\n",
       "    </tr>\n",
       "    <tr>\n",
       "      <th>EG</th>\n",
       "      <td>Egypt</td>\n",
       "      <td>True</td>\n",
       "      <td>45</td>\n",
       "    </tr>\n",
       "    <tr>\n",
       "      <th>IN</th>\n",
       "      <td>India</td>\n",
       "      <td>False</td>\n",
       "      <td>18</td>\n",
       "    </tr>\n",
       "  </tbody>\n",
       "</table>\n",
       "</div>"
      ],
      "text/plain": [
       "               country  drives_right  cars_per_cap\n",
       "ctrcode                                           \n",
       "US       United States          True           809\n",
       "AUS          Australia         False           731\n",
       "JPN              Japan         False           588\n",
       "RUS             Russia          True           200\n",
       "MOR            Morocco          True            70\n",
       "EG               Egypt          True            45\n",
       "IN               India         False            18"
      ]
     },
     "execution_count": 45,
     "metadata": {},
     "output_type": "execute_result"
    }
   ],
   "source": [
    "cars_id.sort_values(by=['cars_per_cap'])\n",
    "cars_id.sort_values(by=['cars_per_cap'], ascending=False)"
   ]
  },
  {
   "cell_type": "code",
   "execution_count": null,
   "metadata": {},
   "outputs": [],
   "source": []
  },
  {
   "cell_type": "code",
   "execution_count": 3,
   "metadata": {},
   "outputs": [
    {
     "data": {
      "text/html": [
       "<div>\n",
       "<style scoped>\n",
       "    .dataframe tbody tr th:only-of-type {\n",
       "        vertical-align: middle;\n",
       "    }\n",
       "\n",
       "    .dataframe tbody tr th {\n",
       "        vertical-align: top;\n",
       "    }\n",
       "\n",
       "    .dataframe thead th {\n",
       "        text-align: right;\n",
       "    }\n",
       "</style>\n",
       "<table border=\"1\" class=\"dataframe\">\n",
       "  <thead>\n",
       "    <tr style=\"text-align: right;\">\n",
       "      <th></th>\n",
       "      <th>movie_ID</th>\n",
       "      <th>movie_title</th>\n",
       "      <th>duration</th>\n",
       "      <th>color</th>\n",
       "      <th>title_year</th>\n",
       "      <th>country</th>\n",
       "      <th>language</th>\n",
       "      <th>content_rating</th>\n",
       "      <th>budget_USD</th>\n",
       "      <th>gross_USD</th>\n",
       "      <th>...</th>\n",
       "      <th>actor_3_facebook?</th>\n",
       "      <th>actor_3_facebook_likes</th>\n",
       "      <th>cast_total_facebook_likes</th>\n",
       "      <th>movie_facebook?</th>\n",
       "      <th>movie_facebook_likes;</th>\n",
       "      <th>facenumber_in_poster</th>\n",
       "      <th>num_voted_users</th>\n",
       "      <th>num_user_for_reviews</th>\n",
       "      <th>imdb_score</th>\n",
       "      <th>imdb_top_250</th>\n",
       "    </tr>\n",
       "  </thead>\n",
       "  <tbody>\n",
       "    <tr>\n",
       "      <th>3778</th>\n",
       "      <td>3779</td>\n",
       "      <td>Battle of the Year</td>\n",
       "      <td>110</td>\n",
       "      <td>1</td>\n",
       "      <td>2013</td>\n",
       "      <td>USA</td>\n",
       "      <td>English</td>\n",
       "      <td>PG-13</td>\n",
       "      <td>20000000</td>\n",
       "      <td>8888355</td>\n",
       "      <td>...</td>\n",
       "      <td>1</td>\n",
       "      <td>826</td>\n",
       "      <td>3177</td>\n",
       "      <td>0</td>\n",
       "      <td>0</td>\n",
       "      <td>19</td>\n",
       "      <td>7894</td>\n",
       "      <td>25</td>\n",
       "      <td>5.0</td>\n",
       "      <td>0</td>\n",
       "    </tr>\n",
       "    <tr>\n",
       "      <th>3779</th>\n",
       "      <td>3780</td>\n",
       "      <td>The Master</td>\n",
       "      <td>144</td>\n",
       "      <td>1</td>\n",
       "      <td>2012</td>\n",
       "      <td>USA</td>\n",
       "      <td>English</td>\n",
       "      <td>R</td>\n",
       "      <td>32000000</td>\n",
       "      <td>16377274</td>\n",
       "      <td>...</td>\n",
       "      <td>1</td>\n",
       "      <td>15</td>\n",
       "      <td>427</td>\n",
       "      <td>1</td>\n",
       "      <td>27000</td>\n",
       "      <td>31</td>\n",
       "      <td>105144</td>\n",
       "      <td>405</td>\n",
       "      <td>7.1</td>\n",
       "      <td>0</td>\n",
       "    </tr>\n",
       "    <tr>\n",
       "      <th>3780</th>\n",
       "      <td>3781</td>\n",
       "      <td>500 Days of Summer</td>\n",
       "      <td>95</td>\n",
       "      <td>1</td>\n",
       "      <td>2009</td>\n",
       "      <td>USA</td>\n",
       "      <td>English</td>\n",
       "      <td>PG-13</td>\n",
       "      <td>7500000</td>\n",
       "      <td>32391374</td>\n",
       "      <td>...</td>\n",
       "      <td>1</td>\n",
       "      <td>11000</td>\n",
       "      <td>54075</td>\n",
       "      <td>1</td>\n",
       "      <td>40000</td>\n",
       "      <td>43</td>\n",
       "      <td>376600</td>\n",
       "      <td>494</td>\n",
       "      <td>7.7</td>\n",
       "      <td>0</td>\n",
       "    </tr>\n",
       "  </tbody>\n",
       "</table>\n",
       "<p>3 rows × 36 columns</p>\n",
       "</div>"
      ],
      "text/plain": [
       "      movie_ID         movie_title  duration  color  title_year country  \\\n",
       "3778      3779  Battle of the Year       110      1        2013     USA   \n",
       "3779      3780          The Master       144      1        2012     USA   \n",
       "3780      3781  500 Days of Summer        95      1        2009     USA   \n",
       "\n",
       "     language content_rating  budget_USD  gross_USD  ...  actor_3_facebook?  \\\n",
       "3778  English          PG-13    20000000    8888355  ...                  1   \n",
       "3779  English              R    32000000   16377274  ...                  1   \n",
       "3780  English          PG-13     7500000   32391374  ...                  1   \n",
       "\n",
       "      actor_3_facebook_likes cast_total_facebook_likes movie_facebook?  \\\n",
       "3778                     826                      3177               0   \n",
       "3779                      15                       427               1   \n",
       "3780                   11000                     54075               1   \n",
       "\n",
       "      movie_facebook_likes;  facenumber_in_poster num_voted_users  \\\n",
       "3778                      0                    19            7894   \n",
       "3779                  27000                    31          105144   \n",
       "3780                  40000                    43          376600   \n",
       "\n",
       "      num_user_for_reviews  imdb_score  imdb_top_250  \n",
       "3778                    25         5.0             0  \n",
       "3779                   405         7.1             0  \n",
       "3780                   494         7.7             0  \n",
       "\n",
       "[3 rows x 36 columns]"
      ]
     },
     "execution_count": 3,
     "metadata": {},
     "output_type": "execute_result"
    }
   ],
   "source": [
    "import pandas as pd\n",
    "imdb = pd.read_csv(\"IMDB-database-update.csv\", encoding = \"ISO-8859-1\")\n",
    "imdb.tail(3)"
   ]
  },
  {
   "cell_type": "code",
   "execution_count": 5,
   "metadata": {},
   "outputs": [
    {
     "data": {
      "text/plain": [
       "(3781, 36)"
      ]
     },
     "execution_count": 5,
     "metadata": {},
     "output_type": "execute_result"
    }
   ],
   "source": [
    "imdb.shape"
   ]
  },
  {
   "cell_type": "code",
   "execution_count": 20,
   "metadata": {},
   "outputs": [
    {
     "data": {
      "text/html": [
       "<div>\n",
       "<style scoped>\n",
       "    .dataframe tbody tr th:only-of-type {\n",
       "        vertical-align: middle;\n",
       "    }\n",
       "\n",
       "    .dataframe tbody tr th {\n",
       "        vertical-align: top;\n",
       "    }\n",
       "\n",
       "    .dataframe thead th {\n",
       "        text-align: right;\n",
       "    }\n",
       "</style>\n",
       "<table border=\"1\" class=\"dataframe\">\n",
       "  <thead>\n",
       "    <tr style=\"text-align: right;\">\n",
       "      <th></th>\n",
       "      <th>movie_ID</th>\n",
       "      <th>movie_title</th>\n",
       "      <th>duration</th>\n",
       "      <th>color</th>\n",
       "      <th>title_year</th>\n",
       "      <th>country</th>\n",
       "      <th>language</th>\n",
       "      <th>content_rating</th>\n",
       "      <th>budget_USD</th>\n",
       "      <th>gross_USD</th>\n",
       "      <th>...</th>\n",
       "      <th>actor_3_facebook?</th>\n",
       "      <th>actor_3_facebook_likes</th>\n",
       "      <th>cast_total_facebook_likes</th>\n",
       "      <th>movie_facebook?</th>\n",
       "      <th>movie_facebook_likes;</th>\n",
       "      <th>facenumber_in_poster</th>\n",
       "      <th>num_voted_users</th>\n",
       "      <th>num_user_for_reviews</th>\n",
       "      <th>imdb_score</th>\n",
       "      <th>imdb_top_250</th>\n",
       "    </tr>\n",
       "  </thead>\n",
       "  <tbody>\n",
       "    <tr>\n",
       "      <th>2570</th>\n",
       "      <td>2571</td>\n",
       "      <td>47 Ronin</td>\n",
       "      <td>128</td>\n",
       "      <td>1</td>\n",
       "      <td>2013</td>\n",
       "      <td>USA</td>\n",
       "      <td>English</td>\n",
       "      <td>PG-13</td>\n",
       "      <td>175000000</td>\n",
       "      <td>38297305</td>\n",
       "      <td>...</td>\n",
       "      <td>1</td>\n",
       "      <td>982</td>\n",
       "      <td>20965</td>\n",
       "      <td>1</td>\n",
       "      <td>35000</td>\n",
       "      <td>2</td>\n",
       "      <td>116994</td>\n",
       "      <td>324</td>\n",
       "      <td>6.3</td>\n",
       "      <td>0</td>\n",
       "    </tr>\n",
       "    <tr>\n",
       "      <th>1596</th>\n",
       "      <td>1597</td>\n",
       "      <td>Jack the Giant Slayer</td>\n",
       "      <td>114</td>\n",
       "      <td>1</td>\n",
       "      <td>2013</td>\n",
       "      <td>USA</td>\n",
       "      <td>English</td>\n",
       "      <td>PG-13</td>\n",
       "      <td>195000000</td>\n",
       "      <td>65171860</td>\n",
       "      <td>...</td>\n",
       "      <td>1</td>\n",
       "      <td>140</td>\n",
       "      <td>1766</td>\n",
       "      <td>1</td>\n",
       "      <td>22000</td>\n",
       "      <td>1</td>\n",
       "      <td>106416</td>\n",
       "      <td>205</td>\n",
       "      <td>6.3</td>\n",
       "      <td>0</td>\n",
       "    </tr>\n",
       "    <tr>\n",
       "      <th>1593</th>\n",
       "      <td>1594</td>\n",
       "      <td>The Lone Ranger</td>\n",
       "      <td>150</td>\n",
       "      <td>1</td>\n",
       "      <td>2013</td>\n",
       "      <td>USA</td>\n",
       "      <td>English</td>\n",
       "      <td>PG-13</td>\n",
       "      <td>215000000</td>\n",
       "      <td>89289910</td>\n",
       "      <td>...</td>\n",
       "      <td>1</td>\n",
       "      <td>1000</td>\n",
       "      <td>45757</td>\n",
       "      <td>1</td>\n",
       "      <td>48000</td>\n",
       "      <td>1</td>\n",
       "      <td>181792</td>\n",
       "      <td>711</td>\n",
       "      <td>6.5</td>\n",
       "      <td>0</td>\n",
       "    </tr>\n",
       "  </tbody>\n",
       "</table>\n",
       "<p>3 rows × 36 columns</p>\n",
       "</div>"
      ],
      "text/plain": [
       "      movie_ID            movie_title  duration  color  title_year country  \\\n",
       "2570      2571               47 Ronin       128      1        2013     USA   \n",
       "1596      1597  Jack the Giant Slayer       114      1        2013     USA   \n",
       "1593      1594        The Lone Ranger       150      1        2013     USA   \n",
       "\n",
       "     language content_rating  budget_USD  gross_USD  ...  actor_3_facebook?  \\\n",
       "2570  English          PG-13   175000000   38297305  ...                  1   \n",
       "1596  English          PG-13   195000000   65171860  ...                  1   \n",
       "1593  English          PG-13   215000000   89289910  ...                  1   \n",
       "\n",
       "      actor_3_facebook_likes cast_total_facebook_likes movie_facebook?  \\\n",
       "2570                     982                     20965               1   \n",
       "1596                     140                      1766               1   \n",
       "1593                    1000                     45757               1   \n",
       "\n",
       "      movie_facebook_likes;  facenumber_in_poster num_voted_users  \\\n",
       "2570                  35000                     2          116994   \n",
       "1596                  22000                     1          106416   \n",
       "1593                  48000                     1          181792   \n",
       "\n",
       "      num_user_for_reviews  imdb_score  imdb_top_250  \n",
       "2570                   324         6.3             0  \n",
       "1596                   205         6.3             0  \n",
       "1593                   711         6.5             0  \n",
       "\n",
       "[3 rows x 36 columns]"
      ]
     },
     "execution_count": 20,
     "metadata": {},
     "output_type": "execute_result"
    }
   ],
   "source": [
    "movie_2013 = imdb[imdb.title_year == 2013]\n",
    "net_sort = movie_2013.sort_values('net_USD')\n",
    "net_sort.head(3)"
   ]
  },
  {
   "cell_type": "code",
   "execution_count": 23,
   "metadata": {
    "scrolled": true
   },
   "outputs": [
    {
     "data": {
      "text/html": [
       "<div>\n",
       "<style scoped>\n",
       "    .dataframe tbody tr th:only-of-type {\n",
       "        vertical-align: middle;\n",
       "    }\n",
       "\n",
       "    .dataframe tbody tr th {\n",
       "        vertical-align: top;\n",
       "    }\n",
       "\n",
       "    .dataframe thead th {\n",
       "        text-align: right;\n",
       "    }\n",
       "</style>\n",
       "<table border=\"1\" class=\"dataframe\">\n",
       "  <thead>\n",
       "    <tr style=\"text-align: right;\">\n",
       "      <th></th>\n",
       "      <th>movie_ID</th>\n",
       "      <th>movie_title</th>\n",
       "      <th>duration</th>\n",
       "      <th>color</th>\n",
       "      <th>title_year</th>\n",
       "      <th>country</th>\n",
       "      <th>language</th>\n",
       "      <th>content_rating</th>\n",
       "      <th>budget_USD</th>\n",
       "      <th>gross_USD</th>\n",
       "      <th>...</th>\n",
       "      <th>actor_3_facebook?</th>\n",
       "      <th>actor_3_facebook_likes</th>\n",
       "      <th>cast_total_facebook_likes</th>\n",
       "      <th>movie_facebook?</th>\n",
       "      <th>movie_facebook_likes;</th>\n",
       "      <th>facenumber_in_poster</th>\n",
       "      <th>num_voted_users</th>\n",
       "      <th>num_user_for_reviews</th>\n",
       "      <th>imdb_score</th>\n",
       "      <th>imdb_top_250</th>\n",
       "    </tr>\n",
       "  </thead>\n",
       "  <tbody>\n",
       "    <tr>\n",
       "      <th>3049</th>\n",
       "      <td>3050</td>\n",
       "      <td>Tanner Hall</td>\n",
       "      <td>96</td>\n",
       "      <td>1</td>\n",
       "      <td>2009</td>\n",
       "      <td>USA</td>\n",
       "      <td>English</td>\n",
       "      <td>R</td>\n",
       "      <td>3000000</td>\n",
       "      <td>5005</td>\n",
       "      <td>...</td>\n",
       "      <td>1</td>\n",
       "      <td>357</td>\n",
       "      <td>1929</td>\n",
       "      <td>1</td>\n",
       "      <td>448</td>\n",
       "      <td>2</td>\n",
       "      <td>2280</td>\n",
       "      <td>14</td>\n",
       "      <td>5.9</td>\n",
       "      <td>0</td>\n",
       "    </tr>\n",
       "    <tr>\n",
       "      <th>2978</th>\n",
       "      <td>2979</td>\n",
       "      <td>The Open Road</td>\n",
       "      <td>91</td>\n",
       "      <td>1</td>\n",
       "      <td>2009</td>\n",
       "      <td>USA</td>\n",
       "      <td>English</td>\n",
       "      <td>PG-13</td>\n",
       "      <td>10000000</td>\n",
       "      <td>19348</td>\n",
       "      <td>...</td>\n",
       "      <td>1</td>\n",
       "      <td>875</td>\n",
       "      <td>16118</td>\n",
       "      <td>1</td>\n",
       "      <td>370</td>\n",
       "      <td>2</td>\n",
       "      <td>2941</td>\n",
       "      <td>11</td>\n",
       "      <td>5.5</td>\n",
       "      <td>0</td>\n",
       "    </tr>\n",
       "    <tr>\n",
       "      <th>3038</th>\n",
       "      <td>3039</td>\n",
       "      <td>The Good Heart</td>\n",
       "      <td>99</td>\n",
       "      <td>1</td>\n",
       "      <td>2009</td>\n",
       "      <td>Iceland</td>\n",
       "      <td>English</td>\n",
       "      <td>R</td>\n",
       "      <td>3800000</td>\n",
       "      <td>19959</td>\n",
       "      <td>...</td>\n",
       "      <td>1</td>\n",
       "      <td>64</td>\n",
       "      <td>298</td>\n",
       "      <td>0</td>\n",
       "      <td>0</td>\n",
       "      <td>2</td>\n",
       "      <td>3579</td>\n",
       "      <td>14</td>\n",
       "      <td>6.9</td>\n",
       "      <td>0</td>\n",
       "    </tr>\n",
       "  </tbody>\n",
       "</table>\n",
       "<p>3 rows × 36 columns</p>\n",
       "</div>"
      ],
      "text/plain": [
       "      movie_ID     movie_title  duration  color  title_year  country language  \\\n",
       "3049      3050     Tanner Hall        96      1        2009      USA  English   \n",
       "2978      2979   The Open Road        91      1        2009      USA  English   \n",
       "3038      3039  The Good Heart        99      1        2009  Iceland  English   \n",
       "\n",
       "     content_rating  budget_USD  gross_USD  ...  actor_3_facebook?  \\\n",
       "3049              R     3000000       5005  ...                  1   \n",
       "2978          PG-13    10000000      19348  ...                  1   \n",
       "3038              R     3800000      19959  ...                  1   \n",
       "\n",
       "      actor_3_facebook_likes cast_total_facebook_likes movie_facebook?  \\\n",
       "3049                     357                      1929               1   \n",
       "2978                     875                     16118               1   \n",
       "3038                      64                       298               0   \n",
       "\n",
       "      movie_facebook_likes;  facenumber_in_poster num_voted_users  \\\n",
       "3049                    448                     2            2280   \n",
       "2978                    370                     2            2941   \n",
       "3038                      0                     2            3579   \n",
       "\n",
       "      num_user_for_reviews  imdb_score  imdb_top_250  \n",
       "3049                    14         5.9             0  \n",
       "2978                    11         5.5             0  \n",
       "3038                    14         6.9             0  \n",
       "\n",
       "[3 rows x 36 columns]"
      ]
     },
     "execution_count": 23,
     "metadata": {},
     "output_type": "execute_result"
    }
   ],
   "source": [
    "movie_2019 = imdb[imdb.title_year == 2009]\n",
    "gross_sort = movie_2019.sort_values('gross_USD')\n",
    "gross_sort.head(3)"
   ]
  },
  {
   "cell_type": "code",
   "execution_count": 29,
   "metadata": {},
   "outputs": [
    {
     "name": "stdout",
     "output_type": "stream",
     "text": [
      "154\n"
     ]
    }
   ],
   "source": [
    "movie_non_english = imdb[imdb.language != 'English']\n",
    "total = movie_non_english['movie_ID'].count()\n",
    "print (total +1)"
   ]
  },
  {
   "cell_type": "code",
   "execution_count": null,
   "metadata": {},
   "outputs": [],
   "source": []
  }
 ],
 "metadata": {
  "kernelspec": {
   "display_name": "Python 3",
   "language": "python",
   "name": "python3"
  },
  "language_info": {
   "codemirror_mode": {
    "name": "ipython",
    "version": 3
   },
   "file_extension": ".py",
   "mimetype": "text/x-python",
   "name": "python",
   "nbconvert_exporter": "python",
   "pygments_lexer": "ipython3",
   "version": "3.7.3"
  }
 },
 "nbformat": 4,
 "nbformat_minor": 2
}
